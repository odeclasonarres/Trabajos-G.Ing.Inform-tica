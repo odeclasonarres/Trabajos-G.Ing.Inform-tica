{
 "cells": [
  {
   "cell_type": "markdown",
   "metadata": {},
   "source": [
    "# La clase `relacion`\n",
    "\n",
    "Para utilizar la clase, primero importamos el fichero que la contiene"
   ]
  },
  {
   "cell_type": "code",
   "execution_count": 1,
   "metadata": {
    "collapsed": false
   },
   "outputs": [],
   "source": [
    "from relaciones import *"
   ]
  },
  {
   "cell_type": "markdown",
   "metadata": {},
   "source": [
    "Para definir una relación, podemos o bien dar un conjunto de parejas, o bien un conjunto de parejas y el universo donde están los elementos de los pares. En caso de no proporcionar el universo, se tomará como universo el conjunto de todos los valores que aparecen en las parejas."
   ]
  },
  {
   "cell_type": "markdown",
   "metadata": {},
   "source": [
    "Por ejemplo, definamos en el conjunto $\\{0,1,\\ldots,11\\}$ la relación de ser congruentes módulo 5"
   ]
  },
  {
   "cell_type": "code",
   "execution_count": 2,
   "metadata": {
    "collapsed": true
   },
   "outputs": [],
   "source": [
    "u =set(range(12))\n",
    "rl = set((a,b) for a in u for b in u if (a-b)%5 ==0)"
   ]
  },
  {
   "cell_type": "code",
   "execution_count": 3,
   "metadata": {
    "collapsed": false
   },
   "outputs": [],
   "source": [
    "r =relacion(rl,u)"
   ]
  },
  {
   "cell_type": "markdown",
   "metadata": {},
   "source": [
    "Sabemos que esta relación es de equivalencia"
   ]
  },
  {
   "cell_type": "code",
   "execution_count": 4,
   "metadata": {
    "collapsed": false
   },
   "outputs": [
    {
     "data": {
      "text/plain": [
       "True"
      ]
     },
     "execution_count": 4,
     "metadata": {},
     "output_type": "execute_result"
    }
   ],
   "source": [
    "r.es_equivalencia()"
   ]
  },
  {
   "cell_type": "markdown",
   "metadata": {},
   "source": [
    "Y podemos calcular sus clases de equivalencia (hemos congelado las clases para poder crear un conjunto de conjuntos)"
   ]
  },
  {
   "cell_type": "code",
   "execution_count": 5,
   "metadata": {
    "collapsed": false
   },
   "outputs": [
    {
     "data": {
      "text/plain": [
       "{frozenset({1, 6, 11}),\n",
       " frozenset({4, 9}),\n",
       " frozenset({3, 8}),\n",
       " frozenset({2, 7}),\n",
       " frozenset({0, 5, 10})}"
      ]
     },
     "execution_count": 5,
     "metadata": {},
     "output_type": "execute_result"
    }
   ],
   "source": [
    "r.clases_equivalencia()"
   ]
  },
  {
   "cell_type": "markdown",
   "metadata": {},
   "source": [
    "El universo es un atributo de la clase, y se puede acceder a él de la siguiente forma"
   ]
  },
  {
   "cell_type": "code",
   "execution_count": 6,
   "metadata": {
    "collapsed": false
   },
   "outputs": [
    {
     "data": {
      "text/plain": [
       "{0, 1, 2, 3, 4, 5, 6, 7, 8, 9, 10, 11}"
      ]
     },
     "execution_count": 6,
     "metadata": {},
     "output_type": "execute_result"
    }
   ],
   "source": [
    "r.universo"
   ]
  },
  {
   "cell_type": "markdown",
   "metadata": {},
   "source": [
    "También podemos determinar si dos elementos están relacionados, bien usando el método `rel` o llamando a la relación con los dos elementos"
   ]
  },
  {
   "cell_type": "code",
   "execution_count": 7,
   "metadata": {
    "collapsed": false
   },
   "outputs": [
    {
     "data": {
      "text/plain": [
       "True"
      ]
     },
     "execution_count": 7,
     "metadata": {},
     "output_type": "execute_result"
    }
   ],
   "source": [
    "r.rel(1,1)"
   ]
  },
  {
   "cell_type": "code",
   "execution_count": 8,
   "metadata": {
    "collapsed": false
   },
   "outputs": [
    {
     "data": {
      "text/plain": [
       "True"
      ]
     },
     "execution_count": 8,
     "metadata": {},
     "output_type": "execute_result"
    }
   ],
   "source": [
    "r(1,6)"
   ]
  },
  {
   "cell_type": "code",
   "execution_count": 9,
   "metadata": {
    "collapsed": false
   },
   "outputs": [
    {
     "data": {
      "text/plain": [
       "True"
      ]
     },
     "execution_count": 9,
     "metadata": {},
     "output_type": "execute_result"
    }
   ],
   "source": [
    "(1,1) in r.rels"
   ]
  },
  {
   "cell_type": "markdown",
   "metadata": {},
   "source": [
    "Si dibujamos las relaciones entre los elementos, aparecerán claramente las clases de equivalencia"
   ]
  },
  {
   "cell_type": "code",
   "execution_count": 10,
   "metadata": {
    "collapsed": false,
    "scrolled": true
   },
   "outputs": [
    {
     "data": {
      "image/svg+xml": [
       "<svg height=\"188pt\" viewBox=\"0.00 0.00 565.00 188.00\" width=\"565pt\" xmlns=\"http://www.w3.org/2000/svg\" xmlns:xlink=\"http://www.w3.org/1999/xlink\">\n",
       "<g class=\"graph\" id=\"graph0\" transform=\"scale(1 1) rotate(0) translate(4 184)\">\n",
       "<title>%3</title>\n",
       "<polygon fill=\"white\" points=\"-4,4 -4,-184 561,-184 561,4 -4,4\" stroke=\"none\"/>\n",
       "<!-- 0 -->\n",
       "<g class=\"node\" id=\"node1\"><title>0</title>\n",
       "<ellipse cx=\"55\" cy=\"-18\" fill=\"none\" rx=\"27\" ry=\"18\" stroke=\"black\"/>\n",
       "<text font-family=\"Times,serif\" font-size=\"14.00\" text-anchor=\"middle\" x=\"55\" y=\"-14.3\">0</text>\n",
       "</g>\n",
       "<!-- 0&#45;&gt;0 -->\n",
       "<g class=\"edge\" id=\"edge18\"><title>0-&gt;0</title>\n",
       "<path d=\"M74.895,-5.56787C87.688,-2.32471 100,-6.46875 100,-18 100,-26.3782 93.5006,-30.8567 85.0395,-31.4356\" fill=\"none\" stroke=\"black\"/>\n",
       "<polygon fill=\"black\" points=\"85.191,-27.9335 74.895,-30.4321 84.5019,-34.8996 85.191,-27.9335\" stroke=\"black\"/>\n",
       "</g>\n",
       "<!-- 5 -->\n",
       "<g class=\"node\" id=\"node6\"><title>5</title>\n",
       "<ellipse cx=\"27\" cy=\"-90\" fill=\"none\" rx=\"27\" ry=\"18\" stroke=\"black\"/>\n",
       "<text font-family=\"Times,serif\" font-size=\"14.00\" text-anchor=\"middle\" x=\"27\" y=\"-86.3\">5</text>\n",
       "</g>\n",
       "<!-- 0&#45;&gt;5 -->\n",
       "<g class=\"edge\" id=\"edge20\"><title>0-&gt;5</title>\n",
       "<path d=\"M43.0659,-34.5353C38.8939,-42.5809 34.5794,-52.6386 31.2402,-61.9139\" fill=\"none\" stroke=\"black\"/>\n",
       "<polygon fill=\"black\" points=\"27.8739,-60.9458 28.0525,-71.5391 34.519,-63.1466 27.8739,-60.9458\" stroke=\"black\"/>\n",
       "</g>\n",
       "<!-- 10 -->\n",
       "<g class=\"node\" id=\"node11\"><title>10</title>\n",
       "<ellipse cx=\"85\" cy=\"-162\" fill=\"none\" rx=\"27\" ry=\"18\" stroke=\"black\"/>\n",
       "<text font-family=\"Times,serif\" font-size=\"14.00\" text-anchor=\"middle\" x=\"85\" y=\"-158.3\">10</text>\n",
       "</g>\n",
       "<!-- 0&#45;&gt;10 -->\n",
       "<g class=\"edge\" id=\"edge5\"><title>0-&gt;10</title>\n",
       "<path d=\"M57.6861,-35.9681C62.2481,-46.0408 68.7481,-59.2908 72,-72 77.2316,-92.4465 78.0225,-116.382 78.9833,-134.278\" fill=\"none\" stroke=\"black\"/>\n",
       "<polygon fill=\"black\" points=\"75.493,-134.543 79.6239,-144.3 82.4788,-134.097 75.493,-134.543\" stroke=\"black\"/>\n",
       "</g>\n",
       "<!-- 1 -->\n",
       "<g class=\"node\" id=\"node2\"><title>1</title>\n",
       "<ellipse cx=\"214\" cy=\"-18\" fill=\"none\" rx=\"27\" ry=\"18\" stroke=\"black\"/>\n",
       "<text font-family=\"Times,serif\" font-size=\"14.00\" text-anchor=\"middle\" x=\"214\" y=\"-14.3\">1</text>\n",
       "</g>\n",
       "<!-- 1&#45;&gt;1 -->\n",
       "<g class=\"edge\" id=\"edge17\"><title>1-&gt;1</title>\n",
       "<path d=\"M233.895,-5.56787C246.688,-2.32471 259,-6.46875 259,-18 259,-26.3782 252.501,-30.8567 244.039,-31.4356\" fill=\"none\" stroke=\"black\"/>\n",
       "<polygon fill=\"black\" points=\"244.191,-27.9335 233.895,-30.4321 243.502,-34.8996 244.191,-27.9335\" stroke=\"black\"/>\n",
       "</g>\n",
       "<!-- 6 -->\n",
       "<g class=\"node\" id=\"node7\"><title>6</title>\n",
       "<ellipse cx=\"186\" cy=\"-90\" fill=\"none\" rx=\"27\" ry=\"18\" stroke=\"black\"/>\n",
       "<text font-family=\"Times,serif\" font-size=\"14.00\" text-anchor=\"middle\" x=\"186\" y=\"-86.3\">6</text>\n",
       "</g>\n",
       "<!-- 1&#45;&gt;6 -->\n",
       "<g class=\"edge\" id=\"edge4\"><title>1-&gt;6</title>\n",
       "<path d=\"M202.066,-34.5353C197.894,-42.5809 193.579,-52.6386 190.24,-61.9139\" fill=\"none\" stroke=\"black\"/>\n",
       "<polygon fill=\"black\" points=\"186.874,-60.9458 187.052,-71.5391 193.519,-63.1466 186.874,-60.9458\" stroke=\"black\"/>\n",
       "</g>\n",
       "<!-- 11 -->\n",
       "<g class=\"node\" id=\"node12\"><title>11</title>\n",
       "<ellipse cx=\"209\" cy=\"-162\" fill=\"none\" rx=\"27\" ry=\"18\" stroke=\"black\"/>\n",
       "<text font-family=\"Times,serif\" font-size=\"14.00\" text-anchor=\"middle\" x=\"209\" y=\"-158.3\">11</text>\n",
       "</g>\n",
       "<!-- 1&#45;&gt;11 -->\n",
       "<g class=\"edge\" id=\"edge7\"><title>1-&gt;11</title>\n",
       "<path d=\"M216.901,-35.9157C221.534,-45.971 228.034,-59.221 231,-72 234.617,-87.5858 235.185,-92.5569 231,-108 228.448,-117.419 223.756,-126.879 219.194,-135.147\" fill=\"none\" stroke=\"black\"/>\n",
       "<polygon fill=\"black\" points=\"216.113,-133.484 214.219,-143.908 222.2,-136.941 216.113,-133.484\" stroke=\"black\"/>\n",
       "</g>\n",
       "<!-- 2 -->\n",
       "<g class=\"node\" id=\"node3\"><title>2</title>\n",
       "<ellipse cx=\"332\" cy=\"-18\" fill=\"none\" rx=\"27\" ry=\"18\" stroke=\"black\"/>\n",
       "<text font-family=\"Times,serif\" font-size=\"14.00\" text-anchor=\"middle\" x=\"332\" y=\"-14.3\">2</text>\n",
       "</g>\n",
       "<!-- 2&#45;&gt;2 -->\n",
       "<g class=\"edge\" id=\"edge15\"><title>2-&gt;2</title>\n",
       "<path d=\"M351.895,-5.56787C364.688,-2.32471 377,-6.46875 377,-18 377,-26.3782 370.501,-30.8567 362.039,-31.4356\" fill=\"none\" stroke=\"black\"/>\n",
       "<polygon fill=\"black\" points=\"362.191,-27.9335 351.895,-30.4321 361.502,-34.8996 362.191,-27.9335\" stroke=\"black\"/>\n",
       "</g>\n",
       "<!-- 7 -->\n",
       "<g class=\"node\" id=\"node8\"><title>7</title>\n",
       "<ellipse cx=\"332\" cy=\"-90\" fill=\"none\" rx=\"27\" ry=\"18\" stroke=\"black\"/>\n",
       "<text font-family=\"Times,serif\" font-size=\"14.00\" text-anchor=\"middle\" x=\"332\" y=\"-86.3\">7</text>\n",
       "</g>\n",
       "<!-- 2&#45;&gt;7 -->\n",
       "<g class=\"edge\" id=\"edge21\"><title>2-&gt;7</title>\n",
       "<path d=\"M326.16,-35.589C325.297,-43.493 325.048,-53.1482 325.412,-62.0648\" fill=\"none\" stroke=\"black\"/>\n",
       "<polygon fill=\"black\" points=\"321.921,-62.3169 326.121,-72.0438 328.903,-61.8209 321.921,-62.3169\" stroke=\"black\"/>\n",
       "</g>\n",
       "<!-- 3 -->\n",
       "<g class=\"node\" id=\"node4\"><title>3</title>\n",
       "<ellipse cx=\"422\" cy=\"-18\" fill=\"none\" rx=\"27\" ry=\"18\" stroke=\"black\"/>\n",
       "<text font-family=\"Times,serif\" font-size=\"14.00\" text-anchor=\"middle\" x=\"422\" y=\"-14.3\">3</text>\n",
       "</g>\n",
       "<!-- 3&#45;&gt;3 -->\n",
       "<g class=\"edge\" id=\"edge10\"><title>3-&gt;3</title>\n",
       "<path d=\"M441.895,-5.56787C454.688,-2.32471 467,-6.46875 467,-18 467,-26.3782 460.501,-30.8567 452.039,-31.4356\" fill=\"none\" stroke=\"black\"/>\n",
       "<polygon fill=\"black\" points=\"452.191,-27.9335 441.895,-30.4321 451.502,-34.8996 452.191,-27.9335\" stroke=\"black\"/>\n",
       "</g>\n",
       "<!-- 8 -->\n",
       "<g class=\"node\" id=\"node9\"><title>8</title>\n",
       "<ellipse cx=\"422\" cy=\"-90\" fill=\"none\" rx=\"27\" ry=\"18\" stroke=\"black\"/>\n",
       "<text font-family=\"Times,serif\" font-size=\"14.00\" text-anchor=\"middle\" x=\"422\" y=\"-86.3\">8</text>\n",
       "</g>\n",
       "<!-- 3&#45;&gt;8 -->\n",
       "<g class=\"edge\" id=\"edge28\"><title>3-&gt;8</title>\n",
       "<path d=\"M416.16,-35.589C415.297,-43.493 415.048,-53.1482 415.412,-62.0648\" fill=\"none\" stroke=\"black\"/>\n",
       "<polygon fill=\"black\" points=\"411.921,-62.3169 416.121,-72.0438 418.903,-61.8209 411.921,-62.3169\" stroke=\"black\"/>\n",
       "</g>\n",
       "<!-- 4 -->\n",
       "<g class=\"node\" id=\"node5\"><title>4</title>\n",
       "<ellipse cx=\"512\" cy=\"-18\" fill=\"none\" rx=\"27\" ry=\"18\" stroke=\"black\"/>\n",
       "<text font-family=\"Times,serif\" font-size=\"14.00\" text-anchor=\"middle\" x=\"512\" y=\"-14.3\">4</text>\n",
       "</g>\n",
       "<!-- 4&#45;&gt;4 -->\n",
       "<g class=\"edge\" id=\"edge12\"><title>4-&gt;4</title>\n",
       "<path d=\"M531.895,-5.56787C544.688,-2.32471 557,-6.46875 557,-18 557,-26.3782 550.501,-30.8567 542.039,-31.4356\" fill=\"none\" stroke=\"black\"/>\n",
       "<polygon fill=\"black\" points=\"542.191,-27.9335 531.895,-30.4321 541.502,-34.8996 542.191,-27.9335\" stroke=\"black\"/>\n",
       "</g>\n",
       "<!-- 9 -->\n",
       "<g class=\"node\" id=\"node10\"><title>9</title>\n",
       "<ellipse cx=\"512\" cy=\"-90\" fill=\"none\" rx=\"27\" ry=\"18\" stroke=\"black\"/>\n",
       "<text font-family=\"Times,serif\" font-size=\"14.00\" text-anchor=\"middle\" x=\"512\" y=\"-86.3\">9</text>\n",
       "</g>\n",
       "<!-- 4&#45;&gt;9 -->\n",
       "<g class=\"edge\" id=\"edge9\"><title>4-&gt;9</title>\n",
       "<path d=\"M506.16,-35.589C505.297,-43.493 505.048,-53.1482 505.412,-62.0648\" fill=\"none\" stroke=\"black\"/>\n",
       "<polygon fill=\"black\" points=\"501.921,-62.3169 506.121,-72.0438 508.903,-61.8209 501.921,-62.3169\" stroke=\"black\"/>\n",
       "</g>\n",
       "<!-- 5&#45;&gt;0 -->\n",
       "<g class=\"edge\" id=\"edge14\"><title>5-&gt;0</title>\n",
       "<path d=\"M39.0046,-73.3288C43.1801,-65.2566 47.4921,-55.1861 50.821,-45.9159\" fill=\"none\" stroke=\"black\"/>\n",
       "<polygon fill=\"black\" points=\"54.183,-46.8965 53.9944,-36.3034 47.5358,-44.7021 54.183,-46.8965\" stroke=\"black\"/>\n",
       "</g>\n",
       "<!-- 5&#45;&gt;5 -->\n",
       "<g class=\"edge\" id=\"edge11\"><title>5-&gt;5</title>\n",
       "<path d=\"M46.895,-77.5679C59.688,-74.3247 72,-78.4688 72,-90 72,-98.3782 65.5006,-102.857 57.0395,-103.436\" fill=\"none\" stroke=\"black\"/>\n",
       "<polygon fill=\"black\" points=\"57.191,-99.9335 46.895,-102.432 56.5019,-106.9 57.191,-99.9335\" stroke=\"black\"/>\n",
       "</g>\n",
       "<!-- 5&#45;&gt;10 -->\n",
       "<g class=\"edge\" id=\"edge24\"><title>5-&gt;10</title>\n",
       "<path d=\"M34.9053,-107.589C41.8588,-117.254 51.8989,-129.538 61.2535,-139.888\" fill=\"none\" stroke=\"black\"/>\n",
       "<polygon fill=\"black\" points=\"58.8316,-142.423 68.2109,-147.35 63.9515,-137.649 58.8316,-142.423\" stroke=\"black\"/>\n",
       "</g>\n",
       "<!-- 6&#45;&gt;1 -->\n",
       "<g class=\"edge\" id=\"edge26\"><title>6-&gt;1</title>\n",
       "<path d=\"M198.005,-73.3288C202.18,-65.2566 206.492,-55.1861 209.821,-45.9159\" fill=\"none\" stroke=\"black\"/>\n",
       "<polygon fill=\"black\" points=\"213.183,-46.8965 212.994,-36.3034 206.536,-44.7021 213.183,-46.8965\" stroke=\"black\"/>\n",
       "</g>\n",
       "<!-- 6&#45;&gt;6 -->\n",
       "<g class=\"edge\" id=\"edge2\"><title>6-&gt;6</title>\n",
       "<path d=\"M205.895,-77.5679C218.688,-74.3247 231,-78.4688 231,-90 231,-98.3782 224.501,-102.857 216.039,-103.436\" fill=\"none\" stroke=\"black\"/>\n",
       "<polygon fill=\"black\" points=\"216.191,-99.9335 205.895,-102.432 215.502,-106.9 216.191,-99.9335\" stroke=\"black\"/>\n",
       "</g>\n",
       "<!-- 6&#45;&gt;11 -->\n",
       "<g class=\"edge\" id=\"edge19\"><title>6-&gt;11</title>\n",
       "<path d=\"M185.77,-108.303C187.646,-116.628 190.781,-126.766 194.256,-135.918\" fill=\"none\" stroke=\"black\"/>\n",
       "<polygon fill=\"black\" points=\"191.082,-137.404 198.115,-145.329 197.559,-134.749 191.082,-137.404\" stroke=\"black\"/>\n",
       "</g>\n",
       "<!-- 7&#45;&gt;2 -->\n",
       "<g class=\"edge\" id=\"edge8\"><title>7-&gt;2</title>\n",
       "<path d=\"M337.879,-72.0438C338.714,-64.1728 338.948,-54.6261 338.583,-45.8131\" fill=\"none\" stroke=\"black\"/>\n",
       "<polygon fill=\"black\" points=\"342.056,-45.3089 337.84,-35.589 335.074,-45.8165 342.056,-45.3089\" stroke=\"black\"/>\n",
       "</g>\n",
       "<!-- 7&#45;&gt;7 -->\n",
       "<g class=\"edge\" id=\"edge3\"><title>7-&gt;7</title>\n",
       "<path d=\"M351.895,-77.5679C364.688,-74.3247 377,-78.4688 377,-90 377,-98.3782 370.501,-102.857 362.039,-103.436\" fill=\"none\" stroke=\"black\"/>\n",
       "<polygon fill=\"black\" points=\"362.191,-99.9335 351.895,-102.432 361.502,-106.9 362.191,-99.9335\" stroke=\"black\"/>\n",
       "</g>\n",
       "<!-- 8&#45;&gt;3 -->\n",
       "<g class=\"edge\" id=\"edge22\"><title>8-&gt;3</title>\n",
       "<path d=\"M427.879,-72.0438C428.714,-64.1728 428.948,-54.6261 428.583,-45.8131\" fill=\"none\" stroke=\"black\"/>\n",
       "<polygon fill=\"black\" points=\"432.056,-45.3089 427.84,-35.589 425.074,-45.8165 432.056,-45.3089\" stroke=\"black\"/>\n",
       "</g>\n",
       "<!-- 8&#45;&gt;8 -->\n",
       "<g class=\"edge\" id=\"edge29\"><title>8-&gt;8</title>\n",
       "<path d=\"M441.895,-77.5679C454.688,-74.3247 467,-78.4688 467,-90 467,-98.3782 460.501,-102.857 452.039,-103.436\" fill=\"none\" stroke=\"black\"/>\n",
       "<polygon fill=\"black\" points=\"452.191,-99.9335 441.895,-102.432 451.502,-106.9 452.191,-99.9335\" stroke=\"black\"/>\n",
       "</g>\n",
       "<!-- 9&#45;&gt;4 -->\n",
       "<g class=\"edge\" id=\"edge6\"><title>9-&gt;4</title>\n",
       "<path d=\"M517.879,-72.0438C518.714,-64.1728 518.948,-54.6261 518.583,-45.8131\" fill=\"none\" stroke=\"black\"/>\n",
       "<polygon fill=\"black\" points=\"522.056,-45.3089 517.84,-35.589 515.074,-45.8165 522.056,-45.3089\" stroke=\"black\"/>\n",
       "</g>\n",
       "<!-- 9&#45;&gt;9 -->\n",
       "<g class=\"edge\" id=\"edge27\"><title>9-&gt;9</title>\n",
       "<path d=\"M531.895,-77.5679C544.688,-74.3247 557,-78.4688 557,-90 557,-98.3782 550.501,-102.857 542.039,-103.436\" fill=\"none\" stroke=\"black\"/>\n",
       "<polygon fill=\"black\" points=\"542.191,-99.9335 531.895,-102.432 541.502,-106.9 542.191,-99.9335\" stroke=\"black\"/>\n",
       "</g>\n",
       "<!-- 10&#45;&gt;0 -->\n",
       "<g class=\"edge\" id=\"edge16\"><title>10-&gt;0</title>\n",
       "<path d=\"M92.8313,-144.63C96.1591,-126.55 96.3261,-96.724 90,-72 87.2943,-61.4255 82.3401,-50.4767 76.8284,-41.2951\" fill=\"none\" stroke=\"black\"/>\n",
       "<polygon fill=\"black\" points=\"79.6316,-39.1889 71.1935,-32.7819 73.7944,-43.0525 79.6316,-39.1889\" stroke=\"black\"/>\n",
       "</g>\n",
       "<!-- 10&#45;&gt;5 -->\n",
       "<g class=\"edge\" id=\"edge23\"><title>10-&gt;5</title>\n",
       "<path d=\"M77.222,-144.588C70.2416,-134.865 60.093,-122.445 50.6553,-112.011\" fill=\"none\" stroke=\"black\"/>\n",
       "<polygon fill=\"black\" points=\"53.0232,-109.419 43.641,-104.497 47.906,-114.195 53.0232,-109.419\" stroke=\"black\"/>\n",
       "</g>\n",
       "<!-- 10&#45;&gt;10 -->\n",
       "<g class=\"edge\" id=\"edge25\"><title>10-&gt;10</title>\n",
       "<path d=\"M104.895,-149.568C117.688,-146.325 130,-150.469 130,-162 130,-170.378 123.501,-174.857 115.039,-175.436\" fill=\"none\" stroke=\"black\"/>\n",
       "<polygon fill=\"black\" points=\"115.191,-171.934 104.895,-174.432 114.502,-178.9 115.191,-171.934\" stroke=\"black\"/>\n",
       "</g>\n",
       "<!-- 11&#45;&gt;1 -->\n",
       "<g class=\"edge\" id=\"edge13\"><title>11-&gt;1</title>\n",
       "<path d=\"M226.702,-147.95C235.679,-137.733 244.985,-122.816 249,-108 253.185,-92.5569 252.617,-87.5858 249,-72 246.532,-61.3674 241.618,-50.4089 236.072,-41.2357\" fill=\"none\" stroke=\"black\"/>\n",
       "<polygon fill=\"black\" points=\"238.854,-39.099 230.382,-32.7358 233.037,-42.9928 238.854,-39.099\" stroke=\"black\"/>\n",
       "</g>\n",
       "<!-- 11&#45;&gt;6 -->\n",
       "<g class=\"edge\" id=\"edge30\"><title>11-&gt;6</title>\n",
       "<path d=\"M209.195,-143.539C207.303,-135.196 204.16,-125.059 200.684,-115.923\" fill=\"none\" stroke=\"black\"/>\n",
       "<polygon fill=\"black\" points=\"203.864,-114.453 196.824,-106.535 197.39,-117.115 203.864,-114.453\" stroke=\"black\"/>\n",
       "</g>\n",
       "<!-- 11&#45;&gt;11 -->\n",
       "<g class=\"edge\" id=\"edge1\"><title>11-&gt;11</title>\n",
       "<path d=\"M228.895,-149.568C241.688,-146.325 254,-150.469 254,-162 254,-170.378 247.501,-174.857 239.039,-175.436\" fill=\"none\" stroke=\"black\"/>\n",
       "<polygon fill=\"black\" points=\"239.191,-171.934 228.895,-174.432 238.502,-178.9 239.191,-171.934\" stroke=\"black\"/>\n",
       "</g>\n",
       "</g>\n",
       "</svg>"
      ],
      "text/plain": [
       "<IPython.core.display.SVG object>"
      ]
     },
     "metadata": {},
     "output_type": "display_data"
    },
    {
     "data": {
      "text/plain": [
       "'Digraph.gv.svg'"
      ]
     },
     "execution_count": 10,
     "metadata": {},
     "output_type": "execute_result"
    }
   ],
   "source": [
    "r.pinta()"
   ]
  },
  {
   "cell_type": "markdown",
   "metadata": {},
   "source": [
    "Esta relación no es de orden"
   ]
  },
  {
   "cell_type": "code",
   "execution_count": 11,
   "metadata": {
    "collapsed": false
   },
   "outputs": [
    {
     "data": {
      "text/plain": [
       "False"
      ]
     },
     "execution_count": 11,
     "metadata": {},
     "output_type": "execute_result"
    }
   ],
   "source": [
    "r.es_orden()"
   ]
  },
  {
   "cell_type": "markdown",
   "metadata": {},
   "source": [
    "Pues no es antisimétrica"
   ]
  },
  {
   "cell_type": "code",
   "execution_count": 12,
   "metadata": {
    "collapsed": false
   },
   "outputs": [
    {
     "data": {
      "text/plain": [
       "False"
      ]
     },
     "execution_count": 12,
     "metadata": {},
     "output_type": "execute_result"
    }
   ],
   "source": [
    "r.es_antisimetrica()"
   ]
  },
  {
   "cell_type": "markdown",
   "metadata": {},
   "source": [
    "## Diagramas de Hasse"
   ]
  },
  {
   "cell_type": "markdown",
   "metadata": {},
   "source": [
    "Veamos ahora como ejemplo el conjunto de los divisores de 12 con la relación de divisibilidad"
   ]
  },
  {
   "cell_type": "code",
   "execution_count": 13,
   "metadata": {
    "collapsed": false
   },
   "outputs": [],
   "source": [
    "d = set(a for a in range(1,13) if 12%a ==0)"
   ]
  },
  {
   "cell_type": "code",
   "execution_count": 14,
   "metadata": {
    "collapsed": false
   },
   "outputs": [],
   "source": [
    "rd =relacion(set((a,b) for a in d for b in d if b%a ==0))"
   ]
  },
  {
   "cell_type": "markdown",
   "metadata": {},
   "source": [
    "Podemos dibujar el diagrama de Hasse como sigue"
   ]
  },
  {
   "cell_type": "code",
   "execution_count": 15,
   "metadata": {
    "collapsed": false
   },
   "outputs": [
    {
     "data": {
      "image/svg+xml": [
       "<svg height=\"260pt\" viewBox=\"0.00 0.00 134.00 260.00\" width=\"134pt\" xmlns=\"http://www.w3.org/2000/svg\" xmlns:xlink=\"http://www.w3.org/1999/xlink\">\n",
       "<g class=\"graph\" id=\"graph0\" transform=\"scale(1 1) rotate(0) translate(4 256)\">\n",
       "<title>%3</title>\n",
       "<polygon fill=\"white\" points=\"-4,4 -4,-256 130,-256 130,4 -4,4\" stroke=\"none\"/>\n",
       "<!-- 1 -->\n",
       "<g class=\"node\" id=\"node1\"><title>1</title>\n",
       "<ellipse cx=\"63\" cy=\"-18\" fill=\"none\" rx=\"27\" ry=\"18\" stroke=\"black\"/>\n",
       "<text font-family=\"Times,serif\" font-size=\"14.00\" text-anchor=\"middle\" x=\"63\" y=\"-14.3\">1</text>\n",
       "</g>\n",
       "<!-- 2 -->\n",
       "<g class=\"node\" id=\"node2\"><title>2</title>\n",
       "<ellipse cx=\"27\" cy=\"-90\" fill=\"none\" rx=\"27\" ry=\"18\" stroke=\"black\"/>\n",
       "<text font-family=\"Times,serif\" font-size=\"14.00\" text-anchor=\"middle\" x=\"27\" y=\"-86.3\">2</text>\n",
       "</g>\n",
       "<!-- 2&#45;&#45;1 -->\n",
       "<g class=\"edge\" id=\"edge1\"><title>2--1</title>\n",
       "<path d=\"M35.3496,-72.7646C41.1655,-61.456 48.8897,-46.4367 54.6957,-35.1473\" fill=\"none\" stroke=\"black\"/>\n",
       "</g>\n",
       "<!-- 3 -->\n",
       "<g class=\"node\" id=\"node3\"><title>3</title>\n",
       "<ellipse cx=\"99\" cy=\"-90\" fill=\"none\" rx=\"27\" ry=\"18\" stroke=\"black\"/>\n",
       "<text font-family=\"Times,serif\" font-size=\"14.00\" text-anchor=\"middle\" x=\"99\" y=\"-86.3\">3</text>\n",
       "</g>\n",
       "<!-- 3&#45;&#45;1 -->\n",
       "<g class=\"edge\" id=\"edge3\"><title>3--1</title>\n",
       "<path d=\"M90.6504,-72.7646C84.8345,-61.456 77.1103,-46.4367 71.3043,-35.1473\" fill=\"none\" stroke=\"black\"/>\n",
       "</g>\n",
       "<!-- 4 -->\n",
       "<g class=\"node\" id=\"node4\"><title>4</title>\n",
       "<ellipse cx=\"27\" cy=\"-162\" fill=\"none\" rx=\"27\" ry=\"18\" stroke=\"black\"/>\n",
       "<text font-family=\"Times,serif\" font-size=\"14.00\" text-anchor=\"middle\" x=\"27\" y=\"-158.3\">4</text>\n",
       "</g>\n",
       "<!-- 4&#45;&#45;2 -->\n",
       "<g class=\"edge\" id=\"edge7\"><title>4--2</title>\n",
       "<path d=\"M27,-143.697C27,-132.846 27,-118.917 27,-108.104\" fill=\"none\" stroke=\"black\"/>\n",
       "</g>\n",
       "<!-- 6 -->\n",
       "<g class=\"node\" id=\"node5\"><title>6</title>\n",
       "<ellipse cx=\"99\" cy=\"-162\" fill=\"none\" rx=\"27\" ry=\"18\" stroke=\"black\"/>\n",
       "<text font-family=\"Times,serif\" font-size=\"14.00\" text-anchor=\"middle\" x=\"99\" y=\"-158.3\">6</text>\n",
       "</g>\n",
       "<!-- 6&#45;&#45;2 -->\n",
       "<g class=\"edge\" id=\"edge2\"><title>6--2</title>\n",
       "<path d=\"M84.4297,-146.834C72.0202,-134.77 54.2694,-117.512 41.7957,-105.385\" fill=\"none\" stroke=\"black\"/>\n",
       "</g>\n",
       "<!-- 6&#45;&#45;3 -->\n",
       "<g class=\"edge\" id=\"edge5\"><title>6--3</title>\n",
       "<path d=\"M99,-143.697C99,-132.846 99,-118.917 99,-108.104\" fill=\"none\" stroke=\"black\"/>\n",
       "</g>\n",
       "<!-- 12 -->\n",
       "<g class=\"node\" id=\"node6\"><title>12</title>\n",
       "<ellipse cx=\"63\" cy=\"-234\" fill=\"none\" rx=\"27\" ry=\"18\" stroke=\"black\"/>\n",
       "<text font-family=\"Times,serif\" font-size=\"14.00\" text-anchor=\"middle\" x=\"63\" y=\"-230.3\">12</text>\n",
       "</g>\n",
       "<!-- 12&#45;&#45;4 -->\n",
       "<g class=\"edge\" id=\"edge4\"><title>12--4</title>\n",
       "<path d=\"M54.6504,-216.765C48.8345,-205.456 41.1103,-190.437 35.3043,-179.147\" fill=\"none\" stroke=\"black\"/>\n",
       "</g>\n",
       "<!-- 12&#45;&#45;6 -->\n",
       "<g class=\"edge\" id=\"edge6\"><title>12--6</title>\n",
       "<path d=\"M71.3496,-216.765C77.1655,-205.456 84.8897,-190.437 90.6957,-179.147\" fill=\"none\" stroke=\"black\"/>\n",
       "</g>\n",
       "</g>\n",
       "</svg>"
      ],
      "text/plain": [
       "<IPython.core.display.SVG object>"
      ]
     },
     "metadata": {},
     "output_type": "display_data"
    },
    {
     "data": {
      "text/plain": [
       "Relación binaria"
      ]
     },
     "execution_count": 15,
     "metadata": {},
     "output_type": "execute_result"
    }
   ],
   "source": [
    "rd.hasse()"
   ]
  },
  {
   "cell_type": "markdown",
   "metadata": {},
   "source": [
    "O bien pintar todas las relaciones"
   ]
  },
  {
   "cell_type": "code",
   "execution_count": 16,
   "metadata": {
    "collapsed": false,
    "scrolled": true
   },
   "outputs": [
    {
     "data": {
      "image/svg+xml": [
       "<svg height=\"260pt\" viewBox=\"0.00 0.00 280.91 260.00\" width=\"281pt\" xmlns=\"http://www.w3.org/2000/svg\" xmlns:xlink=\"http://www.w3.org/1999/xlink\">\n",
       "<g class=\"graph\" id=\"graph0\" transform=\"scale(1 1) rotate(0) translate(4 256)\">\n",
       "<title>%3</title>\n",
       "<polygon fill=\"white\" points=\"-4,4 -4,-256 276.906,-256 276.906,4 -4,4\" stroke=\"none\"/>\n",
       "<!-- 1 -->\n",
       "<g class=\"node\" id=\"node1\"><title>1</title>\n",
       "<ellipse cx=\"155\" cy=\"-18\" fill=\"none\" rx=\"27\" ry=\"18\" stroke=\"black\"/>\n",
       "<text font-family=\"Times,serif\" font-size=\"14.00\" text-anchor=\"middle\" x=\"155\" y=\"-14.3\">1</text>\n",
       "</g>\n",
       "<!-- 1&#45;&gt;1 -->\n",
       "<g class=\"edge\" id=\"edge18\"><title>1-&gt;1</title>\n",
       "<path d=\"M174.895,-5.56787C187.688,-2.32471 200,-6.46875 200,-18 200,-26.3782 193.501,-30.8567 185.039,-31.4356\" fill=\"none\" stroke=\"black\"/>\n",
       "<polygon fill=\"black\" points=\"185.191,-27.9335 174.895,-30.4321 184.502,-34.8996 185.191,-27.9335\" stroke=\"black\"/>\n",
       "</g>\n",
       "<!-- 2 -->\n",
       "<g class=\"node\" id=\"node2\"><title>2</title>\n",
       "<ellipse cx=\"82\" cy=\"-90\" fill=\"none\" rx=\"27\" ry=\"18\" stroke=\"black\"/>\n",
       "<text font-family=\"Times,serif\" font-size=\"14.00\" text-anchor=\"middle\" x=\"82\" y=\"-86.3\">2</text>\n",
       "</g>\n",
       "<!-- 1&#45;&gt;2 -->\n",
       "<g class=\"edge\" id=\"edge1\"><title>1-&gt;2</title>\n",
       "<path d=\"M140.227,-33.1655C129.838,-43.128 115.756,-56.6313 104.043,-67.8629\" fill=\"none\" stroke=\"black\"/>\n",
       "<polygon fill=\"black\" points=\"101.546,-65.408 96.7507,-74.8555 106.391,-70.4605 101.546,-65.408\" stroke=\"black\"/>\n",
       "</g>\n",
       "<!-- 3 -->\n",
       "<g class=\"node\" id=\"node3\"><title>3</title>\n",
       "<ellipse cx=\"210\" cy=\"-90\" fill=\"none\" rx=\"27\" ry=\"18\" stroke=\"black\"/>\n",
       "<text font-family=\"Times,serif\" font-size=\"14.00\" text-anchor=\"middle\" x=\"210\" y=\"-86.3\">3</text>\n",
       "</g>\n",
       "<!-- 1&#45;&gt;3 -->\n",
       "<g class=\"edge\" id=\"edge2\"><title>1-&gt;3</title>\n",
       "<path d=\"M166.934,-34.189C174.214,-43.4536 183.663,-55.4797 191.854,-65.9056\" fill=\"none\" stroke=\"black\"/>\n",
       "<polygon fill=\"black\" points=\"189.159,-68.1399 198.089,-73.8407 194.663,-63.8151 189.159,-68.1399\" stroke=\"black\"/>\n",
       "</g>\n",
       "<!-- 4 -->\n",
       "<g class=\"node\" id=\"node4\"><title>4</title>\n",
       "<ellipse cx=\"27\" cy=\"-162\" fill=\"none\" rx=\"27\" ry=\"18\" stroke=\"black\"/>\n",
       "<text font-family=\"Times,serif\" font-size=\"14.00\" text-anchor=\"middle\" x=\"27\" y=\"-158.3\">4</text>\n",
       "</g>\n",
       "<!-- 1&#45;&gt;4 -->\n",
       "<g class=\"edge\" id=\"edge10\"><title>1-&gt;4</title>\n",
       "<path d=\"M129.738,-24.4591C104.613,-31.24 66.8852,-45.3258 46,-72 32.339,-89.4476 27.9438,-114.491 26.762,-133.571\" fill=\"none\" stroke=\"black\"/>\n",
       "<polygon fill=\"black\" points=\"23.258,-133.621 26.3945,-143.741 30.2534,-133.874 23.258,-133.621\" stroke=\"black\"/>\n",
       "</g>\n",
       "<!-- 6 -->\n",
       "<g class=\"node\" id=\"node5\"><title>6</title>\n",
       "<ellipse cx=\"155\" cy=\"-162\" fill=\"none\" rx=\"27\" ry=\"18\" stroke=\"black\"/>\n",
       "<text font-family=\"Times,serif\" font-size=\"14.00\" text-anchor=\"middle\" x=\"155\" y=\"-158.3\">6</text>\n",
       "</g>\n",
       "<!-- 1&#45;&gt;6 -->\n",
       "<g class=\"edge\" id=\"edge12\"><title>1-&gt;6</title>\n",
       "<path d=\"M155,-36.1285C155,-60.3298 155,-104.789 155,-133.607\" fill=\"none\" stroke=\"black\"/>\n",
       "<polygon fill=\"black\" points=\"151.5,-133.811 155,-143.811 158.5,-133.811 151.5,-133.811\" stroke=\"black\"/>\n",
       "</g>\n",
       "<!-- 12 -->\n",
       "<g class=\"node\" id=\"node6\"><title>12</title>\n",
       "<ellipse cx=\"155\" cy=\"-234\" fill=\"none\" rx=\"27\" ry=\"18\" stroke=\"black\"/>\n",
       "<text font-family=\"Times,serif\" font-size=\"14.00\" text-anchor=\"middle\" x=\"155\" y=\"-230.3\">12</text>\n",
       "</g>\n",
       "<!-- 1&#45;&gt;12 -->\n",
       "<g class=\"edge\" id=\"edge5\"><title>1-&gt;12</title>\n",
       "<path d=\"M180.982,-23.5013C207.072,-29.5545 245.919,-43.1025 264,-72 297.264,-125.162 224.84,-185.957 182.609,-215.307\" fill=\"none\" stroke=\"black\"/>\n",
       "<polygon fill=\"black\" points=\"180.413,-212.567 174.104,-221.078 184.344,-218.359 180.413,-212.567\" stroke=\"black\"/>\n",
       "</g>\n",
       "<!-- 2&#45;&gt;2 -->\n",
       "<g class=\"edge\" id=\"edge15\"><title>2-&gt;2</title>\n",
       "<path d=\"M101.895,-77.5679C114.688,-74.3247 127,-78.4688 127,-90 127,-98.3782 120.501,-102.857 112.039,-103.436\" fill=\"none\" stroke=\"black\"/>\n",
       "<polygon fill=\"black\" points=\"112.191,-99.9335 101.895,-102.432 111.502,-106.9 112.191,-99.9335\" stroke=\"black\"/>\n",
       "</g>\n",
       "<!-- 2&#45;&gt;4 -->\n",
       "<g class=\"edge\" id=\"edge11\"><title>2-&gt;4</title>\n",
       "<path d=\"M70.0658,-106.189C62.7864,-115.454 53.3374,-127.48 45.1456,-137.906\" fill=\"none\" stroke=\"black\"/>\n",
       "<polygon fill=\"black\" points=\"42.337,-135.815 38.9109,-145.841 47.8413,-140.14 42.337,-135.815\" stroke=\"black\"/>\n",
       "</g>\n",
       "<!-- 2&#45;&gt;6 -->\n",
       "<g class=\"edge\" id=\"edge3\"><title>2-&gt;6</title>\n",
       "<path d=\"M96.7726,-105.166C107.162,-115.128 121.244,-128.631 132.957,-139.863\" fill=\"none\" stroke=\"black\"/>\n",
       "<polygon fill=\"black\" points=\"130.609,-142.461 140.249,-146.856 135.454,-137.408 130.609,-142.461\" stroke=\"black\"/>\n",
       "</g>\n",
       "<!-- 2&#45;&gt;12 -->\n",
       "<g class=\"edge\" id=\"edge13\"><title>2-&gt;12</title>\n",
       "<path d=\"M87.8471,-107.867C94.4397,-126.12 105.956,-155.855 119,-180 124.314,-189.835 131.003,-200.117 137.17,-208.978\" fill=\"none\" stroke=\"black\"/>\n",
       "<polygon fill=\"black\" points=\"134.441,-211.18 143.092,-217.297 140.144,-207.12 134.441,-211.18\" stroke=\"black\"/>\n",
       "</g>\n",
       "<!-- 3&#45;&gt;3 -->\n",
       "<g class=\"edge\" id=\"edge4\"><title>3-&gt;3</title>\n",
       "<path d=\"M229.895,-77.5679C242.688,-74.3247 255,-78.4688 255,-90 255,-98.3782 248.501,-102.857 240.039,-103.436\" fill=\"none\" stroke=\"black\"/>\n",
       "<polygon fill=\"black\" points=\"240.191,-99.9335 229.895,-102.432 239.502,-106.9 240.191,-99.9335\" stroke=\"black\"/>\n",
       "</g>\n",
       "<!-- 3&#45;&gt;6 -->\n",
       "<g class=\"edge\" id=\"edge14\"><title>3-&gt;6</title>\n",
       "<path d=\"M198.066,-106.189C190.786,-115.454 181.337,-127.48 173.146,-137.906\" fill=\"none\" stroke=\"black\"/>\n",
       "<polygon fill=\"black\" points=\"170.337,-135.815 166.911,-145.841 175.841,-140.14 170.337,-135.815\" stroke=\"black\"/>\n",
       "</g>\n",
       "<!-- 3&#45;&gt;12 -->\n",
       "<g class=\"edge\" id=\"edge6\"><title>3-&gt;12</title>\n",
       "<path d=\"M213.501,-107.852C216.524,-126.353 218.999,-156.546 209,-180 203.212,-193.577 192.102,-205.446 181.457,-214.491\" fill=\"none\" stroke=\"black\"/>\n",
       "<polygon fill=\"black\" points=\"179.136,-211.865 173.503,-220.838 183.503,-217.336 179.136,-211.865\" stroke=\"black\"/>\n",
       "</g>\n",
       "<!-- 4&#45;&gt;4 -->\n",
       "<g class=\"edge\" id=\"edge8\"><title>4-&gt;4</title>\n",
       "<path d=\"M46.895,-149.568C59.688,-146.325 72,-150.469 72,-162 72,-170.378 65.5006,-174.857 57.0395,-175.436\" fill=\"none\" stroke=\"black\"/>\n",
       "<polygon fill=\"black\" points=\"57.191,-171.934 46.895,-174.432 56.5019,-178.9 57.191,-171.934\" stroke=\"black\"/>\n",
       "</g>\n",
       "<!-- 4&#45;&gt;12 -->\n",
       "<g class=\"edge\" id=\"edge16\"><title>4-&gt;12</title>\n",
       "<path d=\"M47.282,-174.092C68.441,-185.663 101.812,-203.913 125.805,-217.034\" fill=\"none\" stroke=\"black\"/>\n",
       "<polygon fill=\"black\" points=\"124.36,-220.233 134.813,-221.96 127.719,-214.091 124.36,-220.233\" stroke=\"black\"/>\n",
       "</g>\n",
       "<!-- 6&#45;&gt;6 -->\n",
       "<g class=\"edge\" id=\"edge7\"><title>6-&gt;6</title>\n",
       "<path d=\"M174.895,-149.568C187.688,-146.325 200,-150.469 200,-162 200,-170.378 193.501,-174.857 185.039,-175.436\" fill=\"none\" stroke=\"black\"/>\n",
       "<polygon fill=\"black\" points=\"185.191,-171.934 174.895,-174.432 184.502,-178.9 185.191,-171.934\" stroke=\"black\"/>\n",
       "</g>\n",
       "<!-- 6&#45;&gt;12 -->\n",
       "<g class=\"edge\" id=\"edge17\"><title>6-&gt;12</title>\n",
       "<path d=\"M155,-180.303C155,-188.017 155,-197.288 155,-205.888\" fill=\"none\" stroke=\"black\"/>\n",
       "<polygon fill=\"black\" points=\"151.5,-205.896 155,-215.896 158.5,-205.896 151.5,-205.896\" stroke=\"black\"/>\n",
       "</g>\n",
       "<!-- 12&#45;&gt;12 -->\n",
       "<g class=\"edge\" id=\"edge9\"><title>12-&gt;12</title>\n",
       "<path d=\"M174.895,-221.568C187.688,-218.325 200,-222.469 200,-234 200,-242.378 193.501,-246.857 185.039,-247.436\" fill=\"none\" stroke=\"black\"/>\n",
       "<polygon fill=\"black\" points=\"185.191,-243.934 174.895,-246.432 184.502,-250.9 185.191,-243.934\" stroke=\"black\"/>\n",
       "</g>\n",
       "</g>\n",
       "</svg>"
      ],
      "text/plain": [
       "<IPython.core.display.SVG object>"
      ]
     },
     "metadata": {},
     "output_type": "display_data"
    },
    {
     "data": {
      "text/plain": [
       "'Digraph.gv.svg'"
      ]
     },
     "execution_count": 16,
     "metadata": {},
     "output_type": "execute_result"
    }
   ],
   "source": [
    "rd.pinta()"
   ]
  },
  {
   "cell_type": "markdown",
   "metadata": {},
   "source": [
    "Claramente esta relación es de orden, y no es un orden total"
   ]
  },
  {
   "cell_type": "code",
   "execution_count": 17,
   "metadata": {
    "collapsed": false
   },
   "outputs": [
    {
     "data": {
      "text/plain": [
       "True"
      ]
     },
     "execution_count": 17,
     "metadata": {},
     "output_type": "execute_result"
    }
   ],
   "source": [
    "rd.es_orden()"
   ]
  },
  {
   "cell_type": "code",
   "execution_count": 18,
   "metadata": {
    "collapsed": false
   },
   "outputs": [
    {
     "data": {
      "text/plain": [
       "False"
      ]
     },
     "execution_count": 18,
     "metadata": {},
     "output_type": "execute_result"
    }
   ],
   "source": [
    "rd.es_orden_total()"
   ]
  },
  {
   "cell_type": "markdown",
   "metadata": {},
   "source": [
    "Los elementos notables se calculan con los métodos que tienen nombres acordes a ellos"
   ]
  },
  {
   "cell_type": "code",
   "execution_count": 19,
   "metadata": {
    "collapsed": false
   },
   "outputs": [
    {
     "data": {
      "text/plain": [
       "{6}"
      ]
     },
     "execution_count": 19,
     "metadata": {},
     "output_type": "execute_result"
    }
   ],
   "source": [
    "rd.maximales(set({2,3,6}))"
   ]
  },
  {
   "cell_type": "code",
   "execution_count": 20,
   "metadata": {
    "collapsed": false
   },
   "outputs": [
    {
     "data": {
      "text/plain": [
       "{2, 3}"
      ]
     },
     "execution_count": 20,
     "metadata": {},
     "output_type": "execute_result"
    }
   ],
   "source": [
    "rd.maximales(set({2,3}))"
   ]
  },
  {
   "cell_type": "markdown",
   "metadata": {},
   "source": [
    "O incluso podemos destacar esos elementos en el dibujo de relaciones"
   ]
  },
  {
   "cell_type": "code",
   "execution_count": 21,
   "metadata": {
    "collapsed": false
   },
   "outputs": [
    {
     "data": {
      "image/svg+xml": [
       "<svg height=\"280pt\" viewBox=\"0.00 0.00 248.00 280.30\" width=\"248pt\" xmlns=\"http://www.w3.org/2000/svg\" xmlns:xlink=\"http://www.w3.org/1999/xlink\">\n",
       "<g class=\"graph\" id=\"graph0\" transform=\"scale(1 1) rotate(0) translate(4 276.296)\">\n",
       "<title>%3</title>\n",
       "<polygon fill=\"white\" points=\"-4,4 -4,-276.296 244,-276.296 244,4 -4,4\" stroke=\"none\"/>\n",
       "<!-- 12 -->\n",
       "<g class=\"node\" id=\"node1\"><title>12</title>\n",
       "<ellipse cx=\"120\" cy=\"-248.148\" fill=\"none\" rx=\"20.2726\" ry=\"20.2726\" stroke=\"black\"/>\n",
       "<ellipse cx=\"120\" cy=\"-248.148\" fill=\"none\" rx=\"24.2973\" ry=\"24.2973\" stroke=\"black\"/>\n",
       "<text font-family=\"Times,serif\" font-size=\"14.00\" text-anchor=\"middle\" x=\"120\" y=\"-244.448\">12</text>\n",
       "</g>\n",
       "<!-- 12&#45;&gt;12 -->\n",
       "<g class=\"edge\" id=\"edge9\"><title>12-&gt;12</title>\n",
       "<path d=\"M139.51,-233.734C151.172,-230.531 162.148,-235.336 162.148,-248.148 162.148,-256.957 156.96,-261.98 149.928,-263.219\" fill=\"none\" stroke=\"black\"/>\n",
       "<polygon fill=\"black\" points=\"149.71,-259.699 139.51,-262.562 149.27,-266.685 149.71,-259.699\" stroke=\"black\"/>\n",
       "</g>\n",
       "<!-- 6 -->\n",
       "<g class=\"node\" id=\"node2\"><title>6</title>\n",
       "<ellipse cx=\"52\" cy=\"-166\" fill=\"none\" rx=\"18\" ry=\"18\" stroke=\"black\"/>\n",
       "<ellipse cx=\"52\" cy=\"-166\" fill=\"none\" rx=\"22\" ry=\"22\" stroke=\"black\"/>\n",
       "<text font-family=\"Times,serif\" font-size=\"14.00\" text-anchor=\"middle\" x=\"52\" y=\"-162.3\">6</text>\n",
       "</g>\n",
       "<!-- 6&#45;&gt;12 -->\n",
       "<g class=\"edge\" id=\"edge17\"><title>6-&gt;12</title>\n",
       "<path d=\"M65.7608,-183.219C75.0566,-194.176 87.5259,-208.873 98.1648,-221.412\" fill=\"none\" stroke=\"black\"/>\n",
       "<polygon fill=\"black\" points=\"95.7015,-223.919 104.84,-229.28 101.039,-219.39 95.7015,-223.919\" stroke=\"black\"/>\n",
       "</g>\n",
       "<!-- 6&#45;&gt;6 -->\n",
       "<g class=\"edge\" id=\"edge7\"><title>6-&gt;6</title>\n",
       "<path d=\"M69.6845,-152.877C81.056,-149.454 92,-153.828 92,-166 92,-174.368 86.8272,-179.051 79.8991,-180.048\" fill=\"none\" stroke=\"black\"/>\n",
       "<polygon fill=\"black\" points=\"79.9594,-176.539 69.6845,-179.123 79.3281,-183.51 79.9594,-176.539\" stroke=\"black\"/>\n",
       "</g>\n",
       "<!-- 1 -->\n",
       "<g class=\"node\" id=\"node3\"><title>1</title>\n",
       "<ellipse cx=\"120\" cy=\"-18\" fill=\"none\" rx=\"18\" ry=\"18\" stroke=\"black\"/>\n",
       "<text font-family=\"Times,serif\" font-size=\"14.00\" text-anchor=\"middle\" x=\"120\" y=\"-14.3\">1</text>\n",
       "</g>\n",
       "<!-- 1&#45;&gt;12 -->\n",
       "<g class=\"edge\" id=\"edge5\"><title>1-&gt;12</title>\n",
       "<path d=\"M120,-36.1482C120,-73.8011 120,-164.273 120,-213.636\" fill=\"none\" stroke=\"black\"/>\n",
       "<polygon fill=\"black\" points=\"116.5,-213.801 120,-223.801 123.5,-213.801 116.5,-213.801\" stroke=\"black\"/>\n",
       "</g>\n",
       "<!-- 1&#45;&gt;6 -->\n",
       "<g class=\"edge\" id=\"edge12\"><title>1-&gt;6</title>\n",
       "<path d=\"M112.723,-34.6246C101.408,-58.9192 79.4248,-106.117 65.2443,-136.564\" fill=\"none\" stroke=\"black\"/>\n",
       "<polygon fill=\"black\" points=\"61.9872,-135.267 60.9379,-145.81 68.3327,-138.223 61.9872,-135.267\" stroke=\"black\"/>\n",
       "</g>\n",
       "<!-- 1&#45;&gt;1 -->\n",
       "<g class=\"edge\" id=\"edge18\"><title>1-&gt;1</title>\n",
       "<path d=\"M134.042,-6.24353C144.913,-1.8468 156,-5.76562 156,-18 156,-26.4111 150.759,-30.8919 143.952,-31.4422\" fill=\"none\" stroke=\"black\"/>\n",
       "<polygon fill=\"black\" points=\"144.487,-27.9831 134.042,-29.7565 143.313,-34.884 144.487,-27.9831\" stroke=\"black\"/>\n",
       "</g>\n",
       "<!-- 2 -->\n",
       "<g class=\"node\" id=\"node4\"><title>2</title>\n",
       "<ellipse cx=\"166\" cy=\"-90\" fill=\"none\" rx=\"18\" ry=\"18\" stroke=\"black\"/>\n",
       "<text font-family=\"Times,serif\" font-size=\"14.00\" text-anchor=\"middle\" x=\"166\" y=\"-86.3\">2</text>\n",
       "</g>\n",
       "<!-- 1&#45;&gt;2 -->\n",
       "<g class=\"edge\" id=\"edge1\"><title>1-&gt;2</title>\n",
       "<path d=\"M129.531,-33.504C135.699,-42.8898 143.862,-55.3117 150.901,-66.0232\" fill=\"none\" stroke=\"black\"/>\n",
       "<polygon fill=\"black\" points=\"148.064,-68.0796 156.481,-74.5145 153.914,-64.2353 148.064,-68.0796\" stroke=\"black\"/>\n",
       "</g>\n",
       "<!-- 3 -->\n",
       "<g class=\"node\" id=\"node5\"><title>3</title>\n",
       "<ellipse cx=\"18\" cy=\"-90\" fill=\"none\" rx=\"18\" ry=\"18\" stroke=\"black\"/>\n",
       "<text font-family=\"Times,serif\" font-size=\"14.00\" text-anchor=\"middle\" x=\"18\" y=\"-86.3\">3</text>\n",
       "</g>\n",
       "<!-- 1&#45;&gt;3 -->\n",
       "<g class=\"edge\" id=\"edge2\"><title>1-&gt;3</title>\n",
       "<path d=\"M105.386,-29.0293C88.571,-40.569 60.7451,-59.6652 41.0142,-73.2059\" fill=\"none\" stroke=\"black\"/>\n",
       "<polygon fill=\"black\" points=\"38.8517,-70.445 32.587,-78.9893 42.8126,-76.2166 38.8517,-70.445\" stroke=\"black\"/>\n",
       "</g>\n",
       "<!-- 4 -->\n",
       "<g class=\"node\" id=\"node6\"><title>4</title>\n",
       "<ellipse cx=\"204\" cy=\"-166\" fill=\"none\" rx=\"18\" ry=\"18\" stroke=\"black\"/>\n",
       "<text font-family=\"Times,serif\" font-size=\"14.00\" text-anchor=\"middle\" x=\"204\" y=\"-162.3\">4</text>\n",
       "</g>\n",
       "<!-- 1&#45;&gt;4 -->\n",
       "<g class=\"edge\" id=\"edge10\"><title>1-&gt;4</title>\n",
       "<path d=\"M137.524,-23.4536C159.221,-30.0147 195.237,-44.5783 211,-72 222.696,-92.3474 218.903,-119.468 213.412,-139.169\" fill=\"none\" stroke=\"black\"/>\n",
       "<polygon fill=\"black\" points=\"209.985,-138.401 210.366,-148.989 216.671,-140.475 209.985,-138.401\" stroke=\"black\"/>\n",
       "</g>\n",
       "<!-- 2&#45;&gt;12 -->\n",
       "<g class=\"edge\" id=\"edge13\"><title>2-&gt;12</title>\n",
       "<path d=\"M161.164,-107.415C153.692,-132.781 139.197,-181.985 129.557,-214.708\" fill=\"none\" stroke=\"black\"/>\n",
       "<polygon fill=\"black\" points=\"126.081,-214.121 126.612,-224.703 132.796,-216.099 126.081,-214.121\" stroke=\"black\"/>\n",
       "</g>\n",
       "<!-- 2&#45;&gt;6 -->\n",
       "<g class=\"edge\" id=\"edge3\"><title>2-&gt;6</title>\n",
       "<path d=\"M151.096,-100.674C132.768,-112.572 101.318,-132.986 78.7615,-147.628\" fill=\"none\" stroke=\"black\"/>\n",
       "<polygon fill=\"black\" points=\"76.7824,-144.74 70.3003,-153.121 80.5937,-150.612 76.7824,-144.74\" stroke=\"black\"/>\n",
       "</g>\n",
       "<!-- 2&#45;&gt;2 -->\n",
       "<g class=\"edge\" id=\"edge15\"><title>2-&gt;2</title>\n",
       "<path d=\"M180.042,-78.2435C190.913,-73.8468 202,-77.7656 202,-90 202,-98.4111 196.759,-102.892 189.952,-103.442\" fill=\"none\" stroke=\"black\"/>\n",
       "<polygon fill=\"black\" points=\"190.487,-99.9831 180.042,-101.756 189.313,-106.884 190.487,-99.9831\" stroke=\"black\"/>\n",
       "</g>\n",
       "<!-- 2&#45;&gt;4 -->\n",
       "<g class=\"edge\" id=\"edge11\"><title>2-&gt;4</title>\n",
       "<path d=\"M173.874,-106.333C178.969,-116.255 185.712,-129.387 191.527,-140.71\" fill=\"none\" stroke=\"black\"/>\n",
       "<polygon fill=\"black\" points=\"188.455,-142.39 196.136,-149.687 194.682,-139.192 188.455,-142.39\" stroke=\"black\"/>\n",
       "</g>\n",
       "<!-- 3&#45;&gt;12 -->\n",
       "<g class=\"edge\" id=\"edge6\"><title>3-&gt;12</title>\n",
       "<path d=\"M13.9425,-107.766C9.96343,-128.228 6.39591,-163.165 21,-188 35.4102,-212.505 64.2905,-228.023 87.1565,-236.984\" fill=\"none\" stroke=\"black\"/>\n",
       "<polygon fill=\"black\" points=\"86.2526,-240.381 96.8463,-240.54 88.664,-233.809 86.2526,-240.381\" stroke=\"black\"/>\n",
       "</g>\n",
       "<!-- 3&#45;&gt;6 -->\n",
       "<g class=\"edge\" id=\"edge14\"><title>3-&gt;6</title>\n",
       "<path d=\"M25.2105,-106.693C29.1694,-115.31 34.2028,-126.265 38.8353,-136.347\" fill=\"none\" stroke=\"black\"/>\n",
       "<polygon fill=\"black\" points=\"35.7503,-138.016 43.1058,-145.642 42.1111,-135.094 35.7503,-138.016\" stroke=\"black\"/>\n",
       "</g>\n",
       "<!-- 3&#45;&gt;3 -->\n",
       "<g class=\"edge\" id=\"edge4\"><title>3-&gt;3</title>\n",
       "<path d=\"M32.0417,-78.2435C42.9126,-73.8468 54,-77.7656 54,-90 54,-98.4111 48.7595,-102.892 41.9516,-103.442\" fill=\"none\" stroke=\"black\"/>\n",
       "<polygon fill=\"black\" points=\"42.4871,-99.9831 32.0417,-101.756 41.3132,-106.884 42.4871,-99.9831\" stroke=\"black\"/>\n",
       "</g>\n",
       "<!-- 4&#45;&gt;12 -->\n",
       "<g class=\"edge\" id=\"edge16\"><title>4-&gt;12</title>\n",
       "<path d=\"M191.242,-179.173C178.97,-190.882 160.085,-208.901 144.842,-223.445\" fill=\"none\" stroke=\"black\"/>\n",
       "<polygon fill=\"black\" points=\"142.076,-221.247 137.257,-230.683 146.908,-226.312 142.076,-221.247\" stroke=\"black\"/>\n",
       "</g>\n",
       "<!-- 4&#45;&gt;4 -->\n",
       "<g class=\"edge\" id=\"edge8\"><title>4-&gt;4</title>\n",
       "<path d=\"M217.667,-153.754C228.656,-148.855 240,-152.938 240,-166 240,-174.98 234.638,-179.716 227.716,-180.207\" fill=\"none\" stroke=\"black\"/>\n",
       "<polygon fill=\"black\" points=\"228.152,-176.727 217.667,-178.246 226.811,-183.597 228.152,-176.727\" stroke=\"black\"/>\n",
       "</g>\n",
       "</g>\n",
       "</svg>"
      ],
      "text/plain": [
       "<IPython.core.display.SVG object>"
      ]
     },
     "metadata": {},
     "output_type": "display_data"
    },
    {
     "data": {
      "text/plain": [
       "'Digraph.gv.svg'"
      ]
     },
     "execution_count": 21,
     "metadata": {},
     "output_type": "execute_result"
    }
   ],
   "source": [
    "rd.pinta(rd.mayorantes(set({2,3})))"
   ]
  },
  {
   "cell_type": "code",
   "execution_count": 22,
   "metadata": {
    "collapsed": false
   },
   "outputs": [
    {
     "data": {
      "text/plain": [
       "{2, 3}"
      ]
     },
     "execution_count": 22,
     "metadata": {},
     "output_type": "execute_result"
    }
   ],
   "source": [
    "rd.minimales(set({2,3}))"
   ]
  },
  {
   "cell_type": "code",
   "execution_count": 23,
   "metadata": {
    "collapsed": false
   },
   "outputs": [
    {
     "data": {
      "text/plain": [
       "2"
      ]
     },
     "execution_count": 23,
     "metadata": {},
     "output_type": "execute_result"
    }
   ],
   "source": [
    "rd.minimo(set({2,4}))"
   ]
  },
  {
   "cell_type": "markdown",
   "metadata": {},
   "source": [
    "## Retículos"
   ]
  },
  {
   "cell_type": "markdown",
   "metadata": {},
   "source": [
    "Continuamos con los divisores de 12"
   ]
  },
  {
   "cell_type": "code",
   "execution_count": 24,
   "metadata": {
    "collapsed": false
   },
   "outputs": [
    {
     "data": {
      "text/plain": [
       "True"
      ]
     },
     "execution_count": 24,
     "metadata": {},
     "output_type": "execute_result"
    }
   ],
   "source": [
    "rd.es_reticulo_inferior()\n"
   ]
  },
  {
   "cell_type": "code",
   "execution_count": 25,
   "metadata": {
    "collapsed": false
   },
   "outputs": [
    {
     "data": {
      "text/plain": [
       "True"
      ]
     },
     "execution_count": 25,
     "metadata": {},
     "output_type": "execute_result"
    }
   ],
   "source": [
    "rd.es_reticulo_superior()"
   ]
  },
  {
   "cell_type": "code",
   "execution_count": 26,
   "metadata": {
    "collapsed": false
   },
   "outputs": [
    {
     "data": {
      "text/plain": [
       "3"
      ]
     },
     "execution_count": 26,
     "metadata": {},
     "output_type": "execute_result"
    }
   ],
   "source": [
    "rd.complemento(4)"
   ]
  },
  {
   "cell_type": "code",
   "execution_count": 27,
   "metadata": {
    "collapsed": false
   },
   "outputs": [
    {
     "data": {
      "text/plain": [
       "1"
      ]
     },
     "execution_count": 27,
     "metadata": {},
     "output_type": "execute_result"
    }
   ],
   "source": [
    "rd.cero"
   ]
  },
  {
   "cell_type": "code",
   "execution_count": 28,
   "metadata": {
    "collapsed": false
   },
   "outputs": [
    {
     "data": {
      "text/plain": [
       "12"
      ]
     },
     "execution_count": 28,
     "metadata": {},
     "output_type": "execute_result"
    }
   ],
   "source": [
    "rd.uno"
   ]
  },
  {
   "cell_type": "code",
   "execution_count": 29,
   "metadata": {
    "collapsed": false
   },
   "outputs": [
    {
     "data": {
      "text/plain": [
       "False"
      ]
     },
     "execution_count": 29,
     "metadata": {},
     "output_type": "execute_result"
    }
   ],
   "source": [
    "rd.es_complementado()"
   ]
  },
  {
   "cell_type": "markdown",
   "metadata": {},
   "source": [
    "Veamos qué elementos no tienen complemento"
   ]
  },
  {
   "cell_type": "code",
   "execution_count": 30,
   "metadata": {
    "collapsed": false
   },
   "outputs": [
    {
     "data": {
      "text/plain": [
       "[2, 6]"
      ]
     },
     "execution_count": 30,
     "metadata": {},
     "output_type": "execute_result"
    }
   ],
   "source": [
    "[a for a in rd.universo if rd.complemento(a)==None]"
   ]
  },
  {
   "cell_type": "markdown",
   "metadata": {},
   "source": [
    "Ahora damos un ejemplo que sí es complementado, de hecho un álgebra de Boole"
   ]
  },
  {
   "cell_type": "code",
   "execution_count": 31,
   "metadata": {
    "collapsed": true
   },
   "outputs": [],
   "source": [
    "u = set(a for a in range(1,31) if 30%a==0)"
   ]
  },
  {
   "cell_type": "code",
   "execution_count": 32,
   "metadata": {
    "collapsed": false
   },
   "outputs": [
    {
     "data": {
      "text/plain": [
       "{1, 2, 3, 5, 6, 10, 15, 30}"
      ]
     },
     "execution_count": 32,
     "metadata": {},
     "output_type": "execute_result"
    }
   ],
   "source": [
    "u"
   ]
  },
  {
   "cell_type": "code",
   "execution_count": 33,
   "metadata": {
    "collapsed": true
   },
   "outputs": [],
   "source": [
    "p = set((a,b) for a in u for b in u if b%a ==0)"
   ]
  },
  {
   "cell_type": "code",
   "execution_count": 34,
   "metadata": {
    "collapsed": true
   },
   "outputs": [],
   "source": [
    "r = relacion(p)"
   ]
  },
  {
   "cell_type": "code",
   "execution_count": 35,
   "metadata": {
    "collapsed": false
   },
   "outputs": [
    {
     "data": {
      "text/plain": [
       "True"
      ]
     },
     "execution_count": 35,
     "metadata": {},
     "output_type": "execute_result"
    }
   ],
   "source": [
    "r.es_distributivo()"
   ]
  },
  {
   "cell_type": "code",
   "execution_count": 36,
   "metadata": {
    "collapsed": false
   },
   "outputs": [
    {
     "data": {
      "text/plain": [
       "{2, 3, 5}"
      ]
     },
     "execution_count": 36,
     "metadata": {},
     "output_type": "execute_result"
    }
   ],
   "source": [
    "r.atomos()"
   ]
  },
  {
   "cell_type": "code",
   "execution_count": 37,
   "metadata": {
    "collapsed": false
   },
   "outputs": [
    {
     "data": {
      "text/plain": [
       "True"
      ]
     },
     "execution_count": 37,
     "metadata": {},
     "output_type": "execute_result"
    }
   ],
   "source": [
    "r.es_algebra_Boole()"
   ]
  },
  {
   "cell_type": "code",
   "execution_count": 38,
   "metadata": {
    "collapsed": false,
    "scrolled": true
   },
   "outputs": [
    {
     "data": {
      "image/svg+xml": [
       "<svg height=\"277pt\" viewBox=\"0.00 0.00 371.34 276.59\" width=\"371pt\" xmlns=\"http://www.w3.org/2000/svg\" xmlns:xlink=\"http://www.w3.org/1999/xlink\">\n",
       "<g class=\"graph\" id=\"graph0\" transform=\"scale(1 1) rotate(0) translate(4 272.593)\">\n",
       "<title>%3</title>\n",
       "<polygon fill=\"white\" points=\"-4,4 -4,-272.593 367.337,-272.593 367.337,4 -4,4\" stroke=\"none\"/>\n",
       "<!-- 2 -->\n",
       "<g class=\"node\" id=\"node1\"><title>2</title>\n",
       "<ellipse cx=\"45.1893\" cy=\"-94\" fill=\"none\" rx=\"18\" ry=\"18\" stroke=\"black\"/>\n",
       "<ellipse cx=\"45.1893\" cy=\"-94\" fill=\"none\" rx=\"22\" ry=\"22\" stroke=\"black\"/>\n",
       "<text font-family=\"Times,serif\" font-size=\"14.00\" text-anchor=\"middle\" x=\"45.1893\" y=\"-90.3\">2</text>\n",
       "</g>\n",
       "<!-- 2&#45;&gt;2 -->\n",
       "<g class=\"edge\" id=\"edge15\"><title>2-&gt;2</title>\n",
       "<path d=\"M62.8738,-80.8772C74.2453,-77.4539 85.1893,-81.8281 85.1893,-94 85.1893,-102.368 80.0165,-107.051 73.0884,-108.048\" fill=\"none\" stroke=\"black\"/>\n",
       "<polygon fill=\"black\" points=\"73.1487,-104.539 62.8738,-107.123 72.5173,-111.51 73.1487,-104.539\" stroke=\"black\"/>\n",
       "</g>\n",
       "<!-- 10 -->\n",
       "<g class=\"node\" id=\"node5\"><title>10</title>\n",
       "<ellipse cx=\"211.189\" cy=\"-172.148\" fill=\"none\" rx=\"20.2975\" ry=\"20.2975\" stroke=\"black\"/>\n",
       "<text font-family=\"Times,serif\" font-size=\"14.00\" text-anchor=\"middle\" x=\"211.189\" y=\"-168.448\">10</text>\n",
       "</g>\n",
       "<!-- 2&#45;&gt;10 -->\n",
       "<g class=\"edge\" id=\"edge21\"><title>2-&gt;10</title>\n",
       "<path d=\"M64.8835,-104.034C94.4303,-117.588 150.329,-143.23 183.824,-158.595\" fill=\"none\" stroke=\"black\"/>\n",
       "<polygon fill=\"black\" points=\"182.493,-161.835 193.041,-162.823 185.411,-155.473 182.493,-161.835\" stroke=\"black\"/>\n",
       "</g>\n",
       "<!-- 30 -->\n",
       "<g class=\"node\" id=\"node6\"><title>30</title>\n",
       "<ellipse cx=\"163.189\" cy=\"-248.445\" fill=\"none\" rx=\"20.2975\" ry=\"20.2975\" stroke=\"black\"/>\n",
       "<text font-family=\"Times,serif\" font-size=\"14.00\" text-anchor=\"middle\" x=\"163.189\" y=\"-244.745\">30</text>\n",
       "</g>\n",
       "<!-- 2&#45;&gt;30 -->\n",
       "<g class=\"edge\" id=\"edge12\"><title>2-&gt;30</title>\n",
       "<path d=\"M46.587,-116.353C48.9397,-137.522 55.2524,-169.939 72.1893,-192.296 88.1028,-213.303 114.539,-228.022 134.828,-236.939\" fill=\"none\" stroke=\"black\"/>\n",
       "<polygon fill=\"black\" points=\"133.645,-240.238 144.222,-240.852 136.337,-233.776 133.645,-240.238\" stroke=\"black\"/>\n",
       "</g>\n",
       "<!-- 6 -->\n",
       "<g class=\"node\" id=\"node7\"><title>6</title>\n",
       "<ellipse cx=\"99.1893\" cy=\"-172.148\" fill=\"none\" rx=\"18\" ry=\"18\" stroke=\"black\"/>\n",
       "<text font-family=\"Times,serif\" font-size=\"14.00\" text-anchor=\"middle\" x=\"99.1893\" y=\"-168.448\">6</text>\n",
       "</g>\n",
       "<!-- 2&#45;&gt;6 -->\n",
       "<g class=\"edge\" id=\"edge19\"><title>2-&gt;6</title>\n",
       "<path d=\"M57.4427,-112.279C65.0802,-123.049 74.9885,-137.021 83.2354,-148.651\" fill=\"none\" stroke=\"black\"/>\n",
       "<polygon fill=\"black\" points=\"80.5133,-150.863 89.1529,-156.995 86.2233,-146.814 80.5133,-150.863\" stroke=\"black\"/>\n",
       "</g>\n",
       "<!-- 3 -->\n",
       "<g class=\"node\" id=\"node2\"><title>3</title>\n",
       "<ellipse cx=\"163.189\" cy=\"-94\" fill=\"none\" rx=\"18\" ry=\"18\" stroke=\"black\"/>\n",
       "<ellipse cx=\"163.189\" cy=\"-94\" fill=\"none\" rx=\"22\" ry=\"22\" stroke=\"black\"/>\n",
       "<text font-family=\"Times,serif\" font-size=\"14.00\" text-anchor=\"middle\" x=\"163.189\" y=\"-90.3\">3</text>\n",
       "</g>\n",
       "<!-- 3&#45;&gt;3 -->\n",
       "<g class=\"edge\" id=\"edge9\"><title>3-&gt;3</title>\n",
       "<path d=\"M180.874,-80.8772C192.245,-77.4539 203.189,-81.8281 203.189,-94 203.189,-102.368 198.017,-107.051 191.088,-108.048\" fill=\"none\" stroke=\"black\"/>\n",
       "<polygon fill=\"black\" points=\"191.149,-104.539 180.874,-107.123 190.517,-111.51 191.149,-104.539\" stroke=\"black\"/>\n",
       "</g>\n",
       "<!-- 3&#45;&gt;30 -->\n",
       "<g class=\"edge\" id=\"edge20\"><title>3-&gt;30</title>\n",
       "<path d=\"M163.189,-116.197C163.189,-142.573 163.189,-187.774 163.189,-217.633\" fill=\"none\" stroke=\"black\"/>\n",
       "<polygon fill=\"black\" points=\"159.689,-217.876 163.189,-227.876 166.689,-217.876 159.689,-217.876\" stroke=\"black\"/>\n",
       "</g>\n",
       "<!-- 3&#45;&gt;6 -->\n",
       "<g class=\"edge\" id=\"edge14\"><title>3-&gt;6</title>\n",
       "<path d=\"M149.302,-111.523C139.863,-122.754 127.289,-137.715 117.098,-149.84\" fill=\"none\" stroke=\"black\"/>\n",
       "<polygon fill=\"black\" points=\"114.245,-147.794 110.491,-157.702 119.604,-152.298 114.245,-147.794\" stroke=\"black\"/>\n",
       "</g>\n",
       "<!-- 15 -->\n",
       "<g class=\"node\" id=\"node8\"><title>15</title>\n",
       "<ellipse cx=\"325.189\" cy=\"-172.148\" fill=\"none\" rx=\"20.2975\" ry=\"20.2975\" stroke=\"black\"/>\n",
       "<text font-family=\"Times,serif\" font-size=\"14.00\" text-anchor=\"middle\" x=\"325.189\" y=\"-168.448\">15</text>\n",
       "</g>\n",
       "<!-- 3&#45;&gt;15 -->\n",
       "<g class=\"edge\" id=\"edge1\"><title>3-&gt;15</title>\n",
       "<path d=\"M182.73,-104.185C211.406,-117.664 265.012,-142.862 297.663,-158.209\" fill=\"none\" stroke=\"black\"/>\n",
       "<polygon fill=\"black\" points=\"296.533,-161.546 307.072,-162.632 299.511,-155.211 296.533,-161.546\" stroke=\"black\"/>\n",
       "</g>\n",
       "<!-- 5 -->\n",
       "<g class=\"node\" id=\"node3\"><title>5</title>\n",
       "<ellipse cx=\"281.189\" cy=\"-94\" fill=\"none\" rx=\"18\" ry=\"18\" stroke=\"black\"/>\n",
       "<ellipse cx=\"281.189\" cy=\"-94\" fill=\"none\" rx=\"22\" ry=\"22\" stroke=\"black\"/>\n",
       "<text font-family=\"Times,serif\" font-size=\"14.00\" text-anchor=\"middle\" x=\"281.189\" y=\"-90.3\">5</text>\n",
       "</g>\n",
       "<!-- 5&#45;&gt;5 -->\n",
       "<g class=\"edge\" id=\"edge10\"><title>5-&gt;5</title>\n",
       "<path d=\"M298.874,-80.8772C310.245,-77.4539 321.189,-81.8281 321.189,-94 321.189,-102.368 316.017,-107.051 309.088,-108.048\" fill=\"none\" stroke=\"black\"/>\n",
       "<polygon fill=\"black\" points=\"309.149,-104.539 298.874,-107.123 308.517,-111.51 309.149,-104.539\" stroke=\"black\"/>\n",
       "</g>\n",
       "<!-- 5&#45;&gt;10 -->\n",
       "<g class=\"edge\" id=\"edge24\"><title>5-&gt;10</title>\n",
       "<path d=\"M266.685,-110.778C256.502,-121.856 242.744,-136.822 231.475,-149.081\" fill=\"none\" stroke=\"black\"/>\n",
       "<polygon fill=\"black\" points=\"228.682,-146.948 224.491,-156.678 233.835,-151.685 228.682,-146.948\" stroke=\"black\"/>\n",
       "</g>\n",
       "<!-- 5&#45;&gt;30 -->\n",
       "<g class=\"edge\" id=\"edge7\"><title>5-&gt;30</title>\n",
       "<path d=\"M280.894,-116.377C279.587,-137.564 274.741,-169.996 258.189,-192.296 241.706,-214.506 213.408,-229.251 191.973,-237.861\" fill=\"none\" stroke=\"black\"/>\n",
       "<polygon fill=\"black\" points=\"190.491,-234.68 182.38,-241.495 192.971,-241.226 190.491,-234.68\" stroke=\"black\"/>\n",
       "</g>\n",
       "<!-- 5&#45;&gt;15 -->\n",
       "<g class=\"edge\" id=\"edge23\"><title>5-&gt;15</title>\n",
       "<path d=\"M291.84,-113.433C297.427,-123.102 304.358,-135.097 310.452,-145.643\" fill=\"none\" stroke=\"black\"/>\n",
       "<polygon fill=\"black\" points=\"307.503,-147.536 315.537,-154.443 313.564,-144.033 307.503,-147.536\" stroke=\"black\"/>\n",
       "</g>\n",
       "<!-- 1 -->\n",
       "<g class=\"node\" id=\"node4\"><title>1</title>\n",
       "<ellipse cx=\"163.189\" cy=\"-18\" fill=\"none\" rx=\"18\" ry=\"18\" stroke=\"black\"/>\n",
       "<text font-family=\"Times,serif\" font-size=\"14.00\" text-anchor=\"middle\" x=\"163.189\" y=\"-14.3\">1</text>\n",
       "</g>\n",
       "<!-- 1&#45;&gt;2 -->\n",
       "<g class=\"edge\" id=\"edge6\"><title>1-&gt;2</title>\n",
       "<path d=\"M148.244,-28.3722C129.108,-40.3732 95.6046,-61.3836 72.0033,-76.1844\" fill=\"none\" stroke=\"black\"/>\n",
       "<polygon fill=\"black\" points=\"70.1057,-73.2431 63.4933,-81.5212 73.8247,-79.1735 70.1057,-73.2431\" stroke=\"black\"/>\n",
       "</g>\n",
       "<!-- 1&#45;&gt;3 -->\n",
       "<g class=\"edge\" id=\"edge2\"><title>1-&gt;3</title>\n",
       "<path d=\"M163.189,-36.1631C163.189,-43.835 163.189,-53.1225 163.189,-61.9465\" fill=\"none\" stroke=\"black\"/>\n",
       "<polygon fill=\"black\" points=\"159.689,-61.9678 163.189,-71.9678 166.689,-61.9678 159.689,-61.9678\" stroke=\"black\"/>\n",
       "</g>\n",
       "<!-- 1&#45;&gt;5 -->\n",
       "<g class=\"edge\" id=\"edge13\"><title>1-&gt;5</title>\n",
       "<path d=\"M178.134,-28.3722C197.271,-40.3732 230.774,-61.3836 254.375,-76.1844\" fill=\"none\" stroke=\"black\"/>\n",
       "<polygon fill=\"black\" points=\"252.554,-79.1735 262.885,-81.5212 256.273,-73.2431 252.554,-79.1735\" stroke=\"black\"/>\n",
       "</g>\n",
       "<!-- 1&#45;&gt;1 -->\n",
       "<g class=\"edge\" id=\"edge17\"><title>1-&gt;1</title>\n",
       "<path d=\"M176.856,-5.75391C187.846,-0.855469 199.189,-4.9375 199.189,-18 199.189,-26.9805 193.828,-31.7163 186.906,-32.2074\" fill=\"none\" stroke=\"black\"/>\n",
       "<polygon fill=\"black\" points=\"187.342,-28.7265 176.856,-30.2461 186.001,-35.5969 187.342,-28.7265\" stroke=\"black\"/>\n",
       "</g>\n",
       "<!-- 1&#45;&gt;10 -->\n",
       "<g class=\"edge\" id=\"edge16\"><title>1-&gt;10</title>\n",
       "<path d=\"M177.442,-29.3523C189.274,-38.904 205.246,-54.2629 212.189,-72 220.952,-94.3866 219.857,-121.855 217.051,-142.198\" fill=\"none\" stroke=\"black\"/>\n",
       "<polygon fill=\"black\" points=\"213.587,-141.696 215.471,-152.122 220.5,-142.797 213.587,-141.696\" stroke=\"black\"/>\n",
       "</g>\n",
       "<!-- 1&#45;&gt;30 -->\n",
       "<g class=\"edge\" id=\"edge27\"><title>1-&gt;30</title>\n",
       "<path d=\"M145.098,-19.2286C112.485,-20.7393 44.4249,-29.1535 14.1893,-72 -17.9153,-117.495 10.2212,-152.522 49.1893,-192.296 72.7197,-216.314 108.819,-231.316 134.074,-239.504\" fill=\"none\" stroke=\"black\"/>\n",
       "<polygon fill=\"black\" points=\"133.247,-242.911 143.834,-242.506 135.304,-236.221 133.247,-242.911\" stroke=\"black\"/>\n",
       "</g>\n",
       "<!-- 1&#45;&gt;6 -->\n",
       "<g class=\"edge\" id=\"edge5\"><title>1-&gt;6</title>\n",
       "<path d=\"M153.655,-33.4107C147.04,-43.8293 138.346,-58.4056 132.189,-72 121.354,-95.9235 112.22,-124.496 106.329,-144.808\" fill=\"none\" stroke=\"black\"/>\n",
       "<polygon fill=\"black\" points=\"102.911,-144.034 103.552,-154.61 109.645,-145.943 102.911,-144.034\" stroke=\"black\"/>\n",
       "</g>\n",
       "<!-- 1&#45;&gt;15 -->\n",
       "<g class=\"edge\" id=\"edge4\"><title>1-&gt;15</title>\n",
       "<path d=\"M181.423,-18.4402C217.002,-18.4662 295.25,-24.2553 330.189,-72 345.127,-92.4121 341.294,-122.005 335.304,-143.544\" fill=\"none\" stroke=\"black\"/>\n",
       "<polygon fill=\"black\" points=\"331.958,-142.516 332.361,-153.103 338.648,-144.576 331.958,-142.516\" stroke=\"black\"/>\n",
       "</g>\n",
       "<!-- 10&#45;&gt;10 -->\n",
       "<g class=\"edge\" id=\"edge25\"><title>10-&gt;10</title>\n",
       "<path d=\"M226.864,-159.432C238.122,-155.292 249.337,-159.531 249.337,-172.148 249.337,-180.823 244.037,-185.537 237.065,-186.291\" fill=\"none\" stroke=\"black\"/>\n",
       "<polygon fill=\"black\" points=\"237.252,-182.783 226.864,-184.864 236.282,-189.715 237.252,-182.783\" stroke=\"black\"/>\n",
       "</g>\n",
       "<!-- 10&#45;&gt;30 -->\n",
       "<g class=\"edge\" id=\"edge8\"><title>10-&gt;30</title>\n",
       "<path d=\"M200.537,-189.637C194.322,-199.256 186.357,-211.584 179.38,-222.384\" fill=\"none\" stroke=\"black\"/>\n",
       "<polygon fill=\"black\" points=\"176.299,-220.703 173.812,-231.002 182.179,-224.502 176.299,-220.703\" stroke=\"black\"/>\n",
       "</g>\n",
       "<!-- 30&#45;&gt;30 -->\n",
       "<g class=\"edge\" id=\"edge26\"><title>30-&gt;30</title>\n",
       "<path d=\"M178.864,-235.729C190.122,-231.589 201.337,-235.827 201.337,-248.445 201.337,-257.119 196.037,-261.833 189.065,-262.587\" fill=\"none\" stroke=\"black\"/>\n",
       "<polygon fill=\"black\" points=\"189.252,-259.079 178.864,-261.16 188.282,-266.012 189.252,-259.079\" stroke=\"black\"/>\n",
       "</g>\n",
       "<!-- 6&#45;&gt;30 -->\n",
       "<g class=\"edge\" id=\"edge22\"><title>6-&gt;30</title>\n",
       "<path d=\"M110.631,-186.431C119.833,-197.113 132.969,-212.362 143.806,-224.942\" fill=\"none\" stroke=\"black\"/>\n",
       "<polygon fill=\"black\" points=\"141.352,-227.457 150.531,-232.749 146.656,-222.889 141.352,-227.457\" stroke=\"black\"/>\n",
       "</g>\n",
       "<!-- 6&#45;&gt;6 -->\n",
       "<g class=\"edge\" id=\"edge3\"><title>6-&gt;6</title>\n",
       "<path d=\"M112.856,-159.902C123.846,-155.004 135.189,-159.086 135.189,-172.148 135.189,-181.129 129.828,-185.864 122.906,-186.356\" fill=\"none\" stroke=\"black\"/>\n",
       "<polygon fill=\"black\" points=\"123.342,-182.875 112.856,-184.394 122.001,-189.745 123.342,-182.875\" stroke=\"black\"/>\n",
       "</g>\n",
       "<!-- 15&#45;&gt;30 -->\n",
       "<g class=\"edge\" id=\"edge11\"><title>15-&gt;30</title>\n",
       "<path d=\"M308.083,-183.249C302.736,-186.279 296.774,-189.53 291.189,-192.296 257.35,-209.056 217.199,-225.877 191.008,-236.456\" fill=\"none\" stroke=\"black\"/>\n",
       "<polygon fill=\"black\" points=\"189.674,-233.22 181.696,-240.191 192.281,-239.716 189.674,-233.22\" stroke=\"black\"/>\n",
       "</g>\n",
       "<!-- 15&#45;&gt;15 -->\n",
       "<g class=\"edge\" id=\"edge18\"><title>15-&gt;15</title>\n",
       "<path d=\"M340.864,-159.432C352.122,-155.292 363.337,-159.531 363.337,-172.148 363.337,-180.823 358.037,-185.537 351.065,-186.291\" fill=\"none\" stroke=\"black\"/>\n",
       "<polygon fill=\"black\" points=\"351.252,-182.783 340.864,-184.864 350.282,-189.715 351.252,-182.783\" stroke=\"black\"/>\n",
       "</g>\n",
       "</g>\n",
       "</svg>"
      ],
      "text/plain": [
       "<IPython.core.display.SVG object>"
      ]
     },
     "metadata": {},
     "output_type": "display_data"
    },
    {
     "data": {
      "text/plain": [
       "'Digraph.gv.svg'"
      ]
     },
     "execution_count": 38,
     "metadata": {},
     "output_type": "execute_result"
    }
   ],
   "source": [
    "r.pinta(r.atomos())"
   ]
  },
  {
   "cell_type": "markdown",
   "metadata": {},
   "source": [
    "## Retículos de divisores "
   ]
  },
  {
   "cell_type": "markdown",
   "metadata": {},
   "source": [
    "Podemos definir retículos con los divisores de un entero o bien dar un conjunto ordenado por la relación de divisibilidad. Para ellos utilizaremos `divisores`"
   ]
  },
  {
   "cell_type": "code",
   "execution_count": 39,
   "metadata": {
    "collapsed": true
   },
   "outputs": [],
   "source": [
    "r = divisores(24)"
   ]
  },
  {
   "cell_type": "code",
   "execution_count": 40,
   "metadata": {
    "collapsed": false
   },
   "outputs": [
    {
     "data": {
      "image/svg+xml": [
       "<svg height=\"332pt\" viewBox=\"0.00 0.00 134.00 332.00\" width=\"134pt\" xmlns=\"http://www.w3.org/2000/svg\" xmlns:xlink=\"http://www.w3.org/1999/xlink\">\n",
       "<g class=\"graph\" id=\"graph0\" transform=\"scale(1 1) rotate(0) translate(4 328)\">\n",
       "<title>%3</title>\n",
       "<polygon fill=\"white\" points=\"-4,4 -4,-328 130,-328 130,4 -4,4\" stroke=\"none\"/>\n",
       "<!-- 1 -->\n",
       "<g class=\"node\" id=\"node1\"><title>1</title>\n",
       "<ellipse cx=\"63\" cy=\"-18\" fill=\"none\" rx=\"27\" ry=\"18\" stroke=\"black\"/>\n",
       "<text font-family=\"Times,serif\" font-size=\"14.00\" text-anchor=\"middle\" x=\"63\" y=\"-14.3\">1</text>\n",
       "</g>\n",
       "<!-- 2 -->\n",
       "<g class=\"node\" id=\"node2\"><title>2</title>\n",
       "<ellipse cx=\"27\" cy=\"-90\" fill=\"none\" rx=\"27\" ry=\"18\" stroke=\"black\"/>\n",
       "<text font-family=\"Times,serif\" font-size=\"14.00\" text-anchor=\"middle\" x=\"27\" y=\"-86.3\">2</text>\n",
       "</g>\n",
       "<!-- 2&#45;&#45;1 -->\n",
       "<g class=\"edge\" id=\"edge1\"><title>2--1</title>\n",
       "<path d=\"M35.3496,-72.7646C41.1655,-61.456 48.8897,-46.4367 54.6957,-35.1473\" fill=\"none\" stroke=\"black\"/>\n",
       "</g>\n",
       "<!-- 3 -->\n",
       "<g class=\"node\" id=\"node3\"><title>3</title>\n",
       "<ellipse cx=\"99\" cy=\"-90\" fill=\"none\" rx=\"27\" ry=\"18\" stroke=\"black\"/>\n",
       "<text font-family=\"Times,serif\" font-size=\"14.00\" text-anchor=\"middle\" x=\"99\" y=\"-86.3\">3</text>\n",
       "</g>\n",
       "<!-- 3&#45;&#45;1 -->\n",
       "<g class=\"edge\" id=\"edge3\"><title>3--1</title>\n",
       "<path d=\"M90.6504,-72.7646C84.8345,-61.456 77.1103,-46.4367 71.3043,-35.1473\" fill=\"none\" stroke=\"black\"/>\n",
       "</g>\n",
       "<!-- 4 -->\n",
       "<g class=\"node\" id=\"node4\"><title>4</title>\n",
       "<ellipse cx=\"27\" cy=\"-162\" fill=\"none\" rx=\"27\" ry=\"18\" stroke=\"black\"/>\n",
       "<text font-family=\"Times,serif\" font-size=\"14.00\" text-anchor=\"middle\" x=\"27\" y=\"-158.3\">4</text>\n",
       "</g>\n",
       "<!-- 4&#45;&#45;2 -->\n",
       "<g class=\"edge\" id=\"edge10\"><title>4--2</title>\n",
       "<path d=\"M27,-143.697C27,-132.846 27,-118.917 27,-108.104\" fill=\"none\" stroke=\"black\"/>\n",
       "</g>\n",
       "<!-- 6 -->\n",
       "<g class=\"node\" id=\"node5\"><title>6</title>\n",
       "<ellipse cx=\"99\" cy=\"-162\" fill=\"none\" rx=\"27\" ry=\"18\" stroke=\"black\"/>\n",
       "<text font-family=\"Times,serif\" font-size=\"14.00\" text-anchor=\"middle\" x=\"99\" y=\"-158.3\">6</text>\n",
       "</g>\n",
       "<!-- 6&#45;&#45;2 -->\n",
       "<g class=\"edge\" id=\"edge4\"><title>6--2</title>\n",
       "<path d=\"M84.4297,-146.834C72.0202,-134.77 54.2694,-117.512 41.7957,-105.385\" fill=\"none\" stroke=\"black\"/>\n",
       "</g>\n",
       "<!-- 6&#45;&#45;3 -->\n",
       "<g class=\"edge\" id=\"edge8\"><title>6--3</title>\n",
       "<path d=\"M99,-143.697C99,-132.846 99,-118.917 99,-108.104\" fill=\"none\" stroke=\"black\"/>\n",
       "</g>\n",
       "<!-- 8 -->\n",
       "<g class=\"node\" id=\"node6\"><title>8</title>\n",
       "<ellipse cx=\"27\" cy=\"-234\" fill=\"none\" rx=\"27\" ry=\"18\" stroke=\"black\"/>\n",
       "<text font-family=\"Times,serif\" font-size=\"14.00\" text-anchor=\"middle\" x=\"27\" y=\"-230.3\">8</text>\n",
       "</g>\n",
       "<!-- 8&#45;&#45;4 -->\n",
       "<g class=\"edge\" id=\"edge5\"><title>8--4</title>\n",
       "<path d=\"M27,-215.697C27,-204.846 27,-190.917 27,-180.104\" fill=\"none\" stroke=\"black\"/>\n",
       "</g>\n",
       "<!-- 12 -->\n",
       "<g class=\"node\" id=\"node7\"><title>12</title>\n",
       "<ellipse cx=\"99\" cy=\"-234\" fill=\"none\" rx=\"27\" ry=\"18\" stroke=\"black\"/>\n",
       "<text font-family=\"Times,serif\" font-size=\"14.00\" text-anchor=\"middle\" x=\"99\" y=\"-230.3\">12</text>\n",
       "</g>\n",
       "<!-- 12&#45;&#45;4 -->\n",
       "<g class=\"edge\" id=\"edge7\"><title>12--4</title>\n",
       "<path d=\"M84.4297,-218.834C72.0202,-206.77 54.2694,-189.512 41.7957,-177.385\" fill=\"none\" stroke=\"black\"/>\n",
       "</g>\n",
       "<!-- 12&#45;&#45;6 -->\n",
       "<g class=\"edge\" id=\"edge9\"><title>12--6</title>\n",
       "<path d=\"M99,-215.697C99,-204.846 99,-190.917 99,-180.104\" fill=\"none\" stroke=\"black\"/>\n",
       "</g>\n",
       "<!-- 24 -->\n",
       "<g class=\"node\" id=\"node8\"><title>24</title>\n",
       "<ellipse cx=\"63\" cy=\"-306\" fill=\"none\" rx=\"27\" ry=\"18\" stroke=\"black\"/>\n",
       "<text font-family=\"Times,serif\" font-size=\"14.00\" text-anchor=\"middle\" x=\"63\" y=\"-302.3\">24</text>\n",
       "</g>\n",
       "<!-- 24&#45;&#45;8 -->\n",
       "<g class=\"edge\" id=\"edge2\"><title>24--8</title>\n",
       "<path d=\"M54.6504,-288.765C48.8345,-277.456 41.1103,-262.437 35.3043,-251.147\" fill=\"none\" stroke=\"black\"/>\n",
       "</g>\n",
       "<!-- 24&#45;&#45;12 -->\n",
       "<g class=\"edge\" id=\"edge6\"><title>24--12</title>\n",
       "<path d=\"M71.3496,-288.765C77.1655,-277.456 84.8897,-262.437 90.6957,-251.147\" fill=\"none\" stroke=\"black\"/>\n",
       "</g>\n",
       "</g>\n",
       "</svg>"
      ],
      "text/plain": [
       "<IPython.core.display.SVG object>"
      ]
     },
     "metadata": {},
     "output_type": "display_data"
    },
    {
     "data": {
      "text/plain": [
       "Relación binaria"
      ]
     },
     "execution_count": 40,
     "metadata": {},
     "output_type": "execute_result"
    }
   ],
   "source": [
    "r.hasse()"
   ]
  },
  {
   "cell_type": "code",
   "execution_count": 41,
   "metadata": {
    "collapsed": false
   },
   "outputs": [
    {
     "data": {
      "text/plain": [
       "{(1, 2),\n",
       " (1, 3),\n",
       " (2, 4),\n",
       " (2, 6),\n",
       " (3, 6),\n",
       " (4, 8),\n",
       " (4, 12),\n",
       " (6, 12),\n",
       " (8, 24),\n",
       " (12, 24)}"
      ]
     },
     "execution_count": 41,
     "metadata": {},
     "output_type": "execute_result"
    }
   ],
   "source": [
    "_.rels"
   ]
  },
  {
   "cell_type": "markdown",
   "metadata": {},
   "source": [
    "### El diamante"
   ]
  },
  {
   "cell_type": "code",
   "execution_count": 42,
   "metadata": {
    "collapsed": false
   },
   "outputs": [],
   "source": [
    "r = divisores({0,1,2,3,5})"
   ]
  },
  {
   "cell_type": "code",
   "execution_count": 43,
   "metadata": {
    "collapsed": false
   },
   "outputs": [
    {
     "data": {
      "image/svg+xml": [
       "<svg height=\"188pt\" viewBox=\"0.00 0.00 274.71 188.00\" width=\"275pt\" xmlns=\"http://www.w3.org/2000/svg\" xmlns:xlink=\"http://www.w3.org/1999/xlink\">\n",
       "<g class=\"graph\" id=\"graph0\" transform=\"scale(1 1) rotate(0) translate(4 184)\">\n",
       "<title>%3</title>\n",
       "<polygon fill=\"white\" points=\"-4,4 -4,-184 270.708,-184 270.708,4 -4,4\" stroke=\"none\"/>\n",
       "<!-- 0 -->\n",
       "<g class=\"node\" id=\"node1\"><title>0</title>\n",
       "<ellipse cx=\"86.7077\" cy=\"-162\" fill=\"none\" rx=\"27\" ry=\"18\" stroke=\"black\"/>\n",
       "<text font-family=\"Times,serif\" font-size=\"14.00\" text-anchor=\"middle\" x=\"86.7077\" y=\"-158.3\">0</text>\n",
       "</g>\n",
       "<!-- 0&#45;&gt;0 -->\n",
       "<g class=\"edge\" id=\"edge2\"><title>0-&gt;0</title>\n",
       "<path d=\"M106.603,-149.568C119.396,-146.325 131.708,-150.469 131.708,-162 131.708,-170.378 125.208,-174.857 116.747,-175.436\" fill=\"none\" stroke=\"black\"/>\n",
       "<polygon fill=\"black\" points=\"116.899,-171.934 106.603,-174.432 116.21,-178.9 116.899,-171.934\" stroke=\"black\"/>\n",
       "</g>\n",
       "<!-- 1 -->\n",
       "<g class=\"node\" id=\"node2\"><title>1</title>\n",
       "<ellipse cx=\"86.7077\" cy=\"-18\" fill=\"none\" rx=\"27\" ry=\"18\" stroke=\"black\"/>\n",
       "<text font-family=\"Times,serif\" font-size=\"14.00\" text-anchor=\"middle\" x=\"86.7077\" y=\"-14.3\">1</text>\n",
       "</g>\n",
       "<!-- 1&#45;&gt;0 -->\n",
       "<g class=\"edge\" id=\"edge11\"><title>1-&gt;0</title>\n",
       "<path d=\"M63.0978,-27.1688C43.79,-35.2497 17.7777,-49.6782 5.70771,-72 -1.90257,-86.0742 -1.90257,-93.9258 5.70771,-108 15.8917,-126.834 36.0015,-140.049 53.635,-148.572\" fill=\"none\" stroke=\"black\"/>\n",
       "<polygon fill=\"black\" points=\"52.5423,-151.919 63.0978,-152.831 55.4151,-145.535 52.5423,-151.919\" stroke=\"black\"/>\n",
       "</g>\n",
       "<!-- 1&#45;&gt;1 -->\n",
       "<g class=\"edge\" id=\"edge12\"><title>1-&gt;1</title>\n",
       "<path d=\"M106.603,-5.56787C119.396,-2.32471 131.708,-6.46875 131.708,-18 131.708,-26.3782 125.208,-30.8567 116.747,-31.4356\" fill=\"none\" stroke=\"black\"/>\n",
       "<polygon fill=\"black\" points=\"116.899,-27.9335 106.603,-30.4321 116.21,-34.8996 116.899,-27.9335\" stroke=\"black\"/>\n",
       "</g>\n",
       "<!-- 2 -->\n",
       "<g class=\"node\" id=\"node3\"><title>2</title>\n",
       "<ellipse cx=\"41.7077\" cy=\"-90\" fill=\"none\" rx=\"27\" ry=\"18\" stroke=\"black\"/>\n",
       "<text font-family=\"Times,serif\" font-size=\"14.00\" text-anchor=\"middle\" x=\"41.7077\" y=\"-86.3\">2</text>\n",
       "</g>\n",
       "<!-- 1&#45;&gt;2 -->\n",
       "<g class=\"edge\" id=\"edge1\"><title>1-&gt;2</title>\n",
       "<path d=\"M76.4965,-34.8841C70.8581,-43.655 63.7344,-54.7363 57.4039,-64.5838\" fill=\"none\" stroke=\"black\"/>\n",
       "<polygon fill=\"black\" points=\"54.342,-62.8743 51.8785,-73.1788 60.2303,-66.6596 54.342,-62.8743\" stroke=\"black\"/>\n",
       "</g>\n",
       "<!-- 3 -->\n",
       "<g class=\"node\" id=\"node4\"><title>3</title>\n",
       "<ellipse cx=\"131.708\" cy=\"-90\" fill=\"none\" rx=\"27\" ry=\"18\" stroke=\"black\"/>\n",
       "<text font-family=\"Times,serif\" font-size=\"14.00\" text-anchor=\"middle\" x=\"131.708\" y=\"-86.3\">3</text>\n",
       "</g>\n",
       "<!-- 1&#45;&gt;3 -->\n",
       "<g class=\"edge\" id=\"edge3\"><title>1-&gt;3</title>\n",
       "<path d=\"M96.9189,-34.8841C102.557,-43.655 109.681,-54.7363 116.012,-64.5838\" fill=\"none\" stroke=\"black\"/>\n",
       "<polygon fill=\"black\" points=\"113.185,-66.6596 121.537,-73.1788 119.073,-62.8743 113.185,-66.6596\" stroke=\"black\"/>\n",
       "</g>\n",
       "<!-- 5 -->\n",
       "<g class=\"node\" id=\"node5\"><title>5</title>\n",
       "<ellipse cx=\"221.708\" cy=\"-90\" fill=\"none\" rx=\"27\" ry=\"18\" stroke=\"black\"/>\n",
       "<text font-family=\"Times,serif\" font-size=\"14.00\" text-anchor=\"middle\" x=\"221.708\" y=\"-86.3\">5</text>\n",
       "</g>\n",
       "<!-- 1&#45;&gt;5 -->\n",
       "<g class=\"edge\" id=\"edge7\"><title>1-&gt;5</title>\n",
       "<path d=\"M107.506,-29.7841C130.166,-41.5338 166.599,-60.4251 192.208,-73.7039\" fill=\"none\" stroke=\"black\"/>\n",
       "<polygon fill=\"black\" points=\"190.619,-76.8224 201.108,-78.3185 193.841,-70.6082 190.619,-76.8224\" stroke=\"black\"/>\n",
       "</g>\n",
       "<!-- 2&#45;&gt;0 -->\n",
       "<g class=\"edge\" id=\"edge8\"><title>2-&gt;0</title>\n",
       "<path d=\"M51.9189,-106.884C57.5574,-115.655 64.6811,-126.736 71.0116,-136.584\" fill=\"none\" stroke=\"black\"/>\n",
       "<polygon fill=\"black\" points=\"68.1852,-138.66 76.5369,-145.179 74.0734,-134.874 68.1852,-138.66\" stroke=\"black\"/>\n",
       "</g>\n",
       "<!-- 2&#45;&gt;2 -->\n",
       "<g class=\"edge\" id=\"edge10\"><title>2-&gt;2</title>\n",
       "<path d=\"M61.6028,-77.5679C74.3957,-74.3247 86.7077,-78.4688 86.7077,-90 86.7077,-98.3782 80.2083,-102.857 71.7472,-103.436\" fill=\"none\" stroke=\"black\"/>\n",
       "<polygon fill=\"black\" points=\"71.8987,-99.9335 61.6028,-102.432 71.2096,-106.9 71.8987,-99.9335\" stroke=\"black\"/>\n",
       "</g>\n",
       "<!-- 3&#45;&gt;0 -->\n",
       "<g class=\"edge\" id=\"edge6\"><title>3-&gt;0</title>\n",
       "<path d=\"M121.497,-106.884C115.858,-115.655 108.734,-126.736 102.404,-136.584\" fill=\"none\" stroke=\"black\"/>\n",
       "<polygon fill=\"black\" points=\"99.342,-134.874 96.8785,-145.179 105.23,-138.66 99.342,-134.874\" stroke=\"black\"/>\n",
       "</g>\n",
       "<!-- 3&#45;&gt;3 -->\n",
       "<g class=\"edge\" id=\"edge4\"><title>3-&gt;3</title>\n",
       "<path d=\"M151.603,-77.5679C164.396,-74.3247 176.708,-78.4688 176.708,-90 176.708,-98.3782 170.208,-102.857 161.747,-103.436\" fill=\"none\" stroke=\"black\"/>\n",
       "<polygon fill=\"black\" points=\"161.899,-99.9335 151.603,-102.432 161.21,-106.9 161.899,-99.9335\" stroke=\"black\"/>\n",
       "</g>\n",
       "<!-- 5&#45;&gt;0 -->\n",
       "<g class=\"edge\" id=\"edge9\"><title>5-&gt;0</title>\n",
       "<path d=\"M200.91,-101.784C178.25,-113.534 141.816,-132.425 116.207,-145.704\" fill=\"none\" stroke=\"black\"/>\n",
       "<polygon fill=\"black\" points=\"114.574,-142.608 107.308,-150.319 117.796,-148.822 114.574,-142.608\" stroke=\"black\"/>\n",
       "</g>\n",
       "<!-- 5&#45;&gt;5 -->\n",
       "<g class=\"edge\" id=\"edge5\"><title>5-&gt;5</title>\n",
       "<path d=\"M241.603,-77.5679C254.396,-74.3247 266.708,-78.4688 266.708,-90 266.708,-98.3782 260.208,-102.857 251.747,-103.436\" fill=\"none\" stroke=\"black\"/>\n",
       "<polygon fill=\"black\" points=\"251.899,-99.9335 241.603,-102.432 251.21,-106.9 251.899,-99.9335\" stroke=\"black\"/>\n",
       "</g>\n",
       "</g>\n",
       "</svg>"
      ],
      "text/plain": [
       "<IPython.core.display.SVG object>"
      ]
     },
     "metadata": {},
     "output_type": "display_data"
    },
    {
     "data": {
      "text/plain": [
       "'Digraph.gv.svg'"
      ]
     },
     "execution_count": 43,
     "metadata": {},
     "output_type": "execute_result"
    }
   ],
   "source": [
    "r.pinta()"
   ]
  },
  {
   "cell_type": "code",
   "execution_count": 44,
   "metadata": {
    "collapsed": false
   },
   "outputs": [
    {
     "data": {
      "image/svg+xml": [
       "<svg height=\"188pt\" viewBox=\"0.00 0.00 206.00 188.00\" width=\"206pt\" xmlns=\"http://www.w3.org/2000/svg\" xmlns:xlink=\"http://www.w3.org/1999/xlink\">\n",
       "<g class=\"graph\" id=\"graph0\" transform=\"scale(1 1) rotate(0) translate(4 184)\">\n",
       "<title>%3</title>\n",
       "<polygon fill=\"white\" points=\"-4,4 -4,-184 202,-184 202,4 -4,4\" stroke=\"none\"/>\n",
       "<!-- 0 -->\n",
       "<g class=\"node\" id=\"node1\"><title>0</title>\n",
       "<ellipse cx=\"99\" cy=\"-162\" fill=\"none\" rx=\"27\" ry=\"18\" stroke=\"black\"/>\n",
       "<text font-family=\"Times,serif\" font-size=\"14.00\" text-anchor=\"middle\" x=\"99\" y=\"-158.3\">0</text>\n",
       "</g>\n",
       "<!-- 2 -->\n",
       "<g class=\"node\" id=\"node3\"><title>2</title>\n",
       "<ellipse cx=\"27\" cy=\"-90\" fill=\"none\" rx=\"27\" ry=\"18\" stroke=\"black\"/>\n",
       "<text font-family=\"Times,serif\" font-size=\"14.00\" text-anchor=\"middle\" x=\"27\" y=\"-86.3\">2</text>\n",
       "</g>\n",
       "<!-- 0&#45;&#45;2 -->\n",
       "<g class=\"edge\" id=\"edge5\"><title>0--2</title>\n",
       "<path d=\"M84.4297,-146.834C72.0202,-134.77 54.2694,-117.512 41.7957,-105.385\" fill=\"none\" stroke=\"black\"/>\n",
       "</g>\n",
       "<!-- 3 -->\n",
       "<g class=\"node\" id=\"node4\"><title>3</title>\n",
       "<ellipse cx=\"99\" cy=\"-90\" fill=\"none\" rx=\"27\" ry=\"18\" stroke=\"black\"/>\n",
       "<text font-family=\"Times,serif\" font-size=\"14.00\" text-anchor=\"middle\" x=\"99\" y=\"-86.3\">3</text>\n",
       "</g>\n",
       "<!-- 0&#45;&#45;3 -->\n",
       "<g class=\"edge\" id=\"edge3\"><title>0--3</title>\n",
       "<path d=\"M99,-143.697C99,-132.846 99,-118.917 99,-108.104\" fill=\"none\" stroke=\"black\"/>\n",
       "</g>\n",
       "<!-- 5 -->\n",
       "<g class=\"node\" id=\"node5\"><title>5</title>\n",
       "<ellipse cx=\"171\" cy=\"-90\" fill=\"none\" rx=\"27\" ry=\"18\" stroke=\"black\"/>\n",
       "<text font-family=\"Times,serif\" font-size=\"14.00\" text-anchor=\"middle\" x=\"171\" y=\"-86.3\">5</text>\n",
       "</g>\n",
       "<!-- 0&#45;&#45;5 -->\n",
       "<g class=\"edge\" id=\"edge6\"><title>0--5</title>\n",
       "<path d=\"M113.57,-146.834C125.98,-134.77 143.731,-117.512 156.204,-105.385\" fill=\"none\" stroke=\"black\"/>\n",
       "</g>\n",
       "<!-- 1 -->\n",
       "<g class=\"node\" id=\"node2\"><title>1</title>\n",
       "<ellipse cx=\"99\" cy=\"-18\" fill=\"none\" rx=\"27\" ry=\"18\" stroke=\"black\"/>\n",
       "<text font-family=\"Times,serif\" font-size=\"14.00\" text-anchor=\"middle\" x=\"99\" y=\"-14.3\">1</text>\n",
       "</g>\n",
       "<!-- 2&#45;&#45;1 -->\n",
       "<g class=\"edge\" id=\"edge1\"><title>2--1</title>\n",
       "<path d=\"M41.5703,-74.8345C53.9798,-62.7697 71.7306,-45.5119 84.2043,-33.3847\" fill=\"none\" stroke=\"black\"/>\n",
       "</g>\n",
       "<!-- 3&#45;&#45;1 -->\n",
       "<g class=\"edge\" id=\"edge2\"><title>3--1</title>\n",
       "<path d=\"M99,-71.6966C99,-60.8463 99,-46.9167 99,-36.1043\" fill=\"none\" stroke=\"black\"/>\n",
       "</g>\n",
       "<!-- 5&#45;&#45;1 -->\n",
       "<g class=\"edge\" id=\"edge4\"><title>5--1</title>\n",
       "<path d=\"M156.43,-74.8345C144.02,-62.7697 126.269,-45.5119 113.796,-33.3847\" fill=\"none\" stroke=\"black\"/>\n",
       "</g>\n",
       "</g>\n",
       "</svg>"
      ],
      "text/plain": [
       "<IPython.core.display.SVG object>"
      ]
     },
     "metadata": {},
     "output_type": "display_data"
    },
    {
     "data": {
      "text/plain": [
       "Relación binaria"
      ]
     },
     "execution_count": 44,
     "metadata": {},
     "output_type": "execute_result"
    }
   ],
   "source": [
    "r.hasse()"
   ]
  },
  {
   "cell_type": "code",
   "execution_count": 45,
   "metadata": {
    "collapsed": false
   },
   "outputs": [
    {
     "data": {
      "text/plain": [
       "True"
      ]
     },
     "execution_count": 45,
     "metadata": {},
     "output_type": "execute_result"
    }
   ],
   "source": [
    "r.es_orden()"
   ]
  },
  {
   "cell_type": "code",
   "execution_count": 46,
   "metadata": {
    "collapsed": false
   },
   "outputs": [
    {
     "data": {
      "text/plain": [
       "False"
      ]
     },
     "execution_count": 46,
     "metadata": {},
     "output_type": "execute_result"
    }
   ],
   "source": [
    "r.es_orden_total()"
   ]
  },
  {
   "cell_type": "code",
   "execution_count": 47,
   "metadata": {
    "collapsed": false
   },
   "outputs": [
    {
     "data": {
      "text/plain": [
       "True"
      ]
     },
     "execution_count": 47,
     "metadata": {},
     "output_type": "execute_result"
    }
   ],
   "source": [
    "r.es_reticulo()"
   ]
  },
  {
   "cell_type": "code",
   "execution_count": 48,
   "metadata": {
    "collapsed": false
   },
   "outputs": [
    {
     "data": {
      "text/plain": [
       "True"
      ]
     },
     "execution_count": 48,
     "metadata": {},
     "output_type": "execute_result"
    }
   ],
   "source": [
    "r.es_subreticulo({0,1,2,3})"
   ]
  },
  {
   "cell_type": "code",
   "execution_count": 49,
   "metadata": {
    "collapsed": false
   },
   "outputs": [
    {
     "data": {
      "text/plain": [
       "False"
      ]
     },
     "execution_count": 49,
     "metadata": {},
     "output_type": "execute_result"
    }
   ],
   "source": [
    "r.es_distributivo()"
   ]
  },
  {
   "cell_type": "code",
   "execution_count": 50,
   "metadata": {
    "collapsed": false
   },
   "outputs": [
    {
     "data": {
      "text/plain": [
       "True"
      ]
     },
     "execution_count": 50,
     "metadata": {},
     "output_type": "execute_result"
    }
   ],
   "source": [
    "r.es_complementado()"
   ]
  },
  {
   "cell_type": "markdown",
   "metadata": {},
   "source": [
    "### El pentágono"
   ]
  },
  {
   "cell_type": "code",
   "execution_count": 51,
   "metadata": {
    "collapsed": false
   },
   "outputs": [],
   "source": [
    "r = divisores({1,0,2,4,3})"
   ]
  },
  {
   "cell_type": "code",
   "execution_count": 52,
   "metadata": {
    "collapsed": false
   },
   "outputs": [
    {
     "data": {
      "image/svg+xml": [
       "<svg height=\"260pt\" viewBox=\"0.00 0.00 134.00 260.00\" width=\"134pt\" xmlns=\"http://www.w3.org/2000/svg\" xmlns:xlink=\"http://www.w3.org/1999/xlink\">\n",
       "<g class=\"graph\" id=\"graph0\" transform=\"scale(1 1) rotate(0) translate(4 256)\">\n",
       "<title>%3</title>\n",
       "<polygon fill=\"white\" points=\"-4,4 -4,-256 130,-256 130,4 -4,4\" stroke=\"none\"/>\n",
       "<!-- 0 -->\n",
       "<g class=\"node\" id=\"node1\"><title>0</title>\n",
       "<ellipse cx=\"62\" cy=\"-234\" fill=\"none\" rx=\"27\" ry=\"18\" stroke=\"black\"/>\n",
       "<text font-family=\"Times,serif\" font-size=\"14.00\" text-anchor=\"middle\" x=\"62\" y=\"-230.3\">0</text>\n",
       "</g>\n",
       "<!-- 3 -->\n",
       "<g class=\"node\" id=\"node4\"><title>3</title>\n",
       "<ellipse cx=\"27\" cy=\"-90\" fill=\"none\" rx=\"27\" ry=\"18\" stroke=\"black\"/>\n",
       "<text font-family=\"Times,serif\" font-size=\"14.00\" text-anchor=\"middle\" x=\"27\" y=\"-86.3\">3</text>\n",
       "</g>\n",
       "<!-- 0&#45;&#45;3 -->\n",
       "<g class=\"edge\" id=\"edge2\"><title>0--3</title>\n",
       "<path d=\"M57.8476,-216.153C51.1115,-188.824 37.8796,-135.14 31.147,-107.825\" fill=\"none\" stroke=\"black\"/>\n",
       "</g>\n",
       "<!-- 4 -->\n",
       "<g class=\"node\" id=\"node5\"><title>4</title>\n",
       "<ellipse cx=\"94\" cy=\"-162\" fill=\"none\" rx=\"27\" ry=\"18\" stroke=\"black\"/>\n",
       "<text font-family=\"Times,serif\" font-size=\"14.00\" text-anchor=\"middle\" x=\"94\" y=\"-158.3\">4</text>\n",
       "</g>\n",
       "<!-- 0&#45;&#45;4 -->\n",
       "<g class=\"edge\" id=\"edge5\"><title>0--4</title>\n",
       "<path d=\"M69.5836,-216.411C74.6846,-205.252 81.3812,-190.604 86.4709,-179.47\" fill=\"none\" stroke=\"black\"/>\n",
       "</g>\n",
       "<!-- 1 -->\n",
       "<g class=\"node\" id=\"node2\"><title>1</title>\n",
       "<ellipse cx=\"63\" cy=\"-18\" fill=\"none\" rx=\"27\" ry=\"18\" stroke=\"black\"/>\n",
       "<text font-family=\"Times,serif\" font-size=\"14.00\" text-anchor=\"middle\" x=\"63\" y=\"-14.3\">1</text>\n",
       "</g>\n",
       "<!-- 2 -->\n",
       "<g class=\"node\" id=\"node3\"><title>2</title>\n",
       "<ellipse cx=\"99\" cy=\"-90\" fill=\"none\" rx=\"27\" ry=\"18\" stroke=\"black\"/>\n",
       "<text font-family=\"Times,serif\" font-size=\"14.00\" text-anchor=\"middle\" x=\"99\" y=\"-86.3\">2</text>\n",
       "</g>\n",
       "<!-- 2&#45;&#45;1 -->\n",
       "<g class=\"edge\" id=\"edge1\"><title>2--1</title>\n",
       "<path d=\"M90.6504,-72.7646C84.8345,-61.456 77.1103,-46.4367 71.3043,-35.1473\" fill=\"none\" stroke=\"black\"/>\n",
       "</g>\n",
       "<!-- 3&#45;&#45;1 -->\n",
       "<g class=\"edge\" id=\"edge3\"><title>3--1</title>\n",
       "<path d=\"M35.3496,-72.7646C41.1655,-61.456 48.8897,-46.4367 54.6957,-35.1473\" fill=\"none\" stroke=\"black\"/>\n",
       "</g>\n",
       "<!-- 4&#45;&#45;2 -->\n",
       "<g class=\"edge\" id=\"edge4\"><title>4--2</title>\n",
       "<path d=\"M95.236,-143.697C96.011,-132.846 97.0059,-118.917 97.7783,-108.104\" fill=\"none\" stroke=\"black\"/>\n",
       "</g>\n",
       "</g>\n",
       "</svg>"
      ],
      "text/plain": [
       "<IPython.core.display.SVG object>"
      ]
     },
     "metadata": {},
     "output_type": "display_data"
    },
    {
     "data": {
      "text/plain": [
       "Relación binaria"
      ]
     },
     "execution_count": 52,
     "metadata": {},
     "output_type": "execute_result"
    }
   ],
   "source": [
    "r.hasse()"
   ]
  },
  {
   "cell_type": "code",
   "execution_count": 53,
   "metadata": {
    "collapsed": false
   },
   "outputs": [
    {
     "data": {
      "text/plain": [
       "False"
      ]
     },
     "execution_count": 53,
     "metadata": {},
     "output_type": "execute_result"
    }
   ],
   "source": [
    "r.es_distributivo()"
   ]
  },
  {
   "cell_type": "code",
   "execution_count": 54,
   "metadata": {
    "collapsed": false
   },
   "outputs": [
    {
     "data": {
      "text/plain": [
       "True"
      ]
     },
     "execution_count": 54,
     "metadata": {},
     "output_type": "execute_result"
    }
   ],
   "source": [
    "r.es_complementado()"
   ]
  },
  {
   "cell_type": "markdown",
   "metadata": {},
   "source": [
    "### Otros ejemplos"
   ]
  },
  {
   "cell_type": "markdown",
   "metadata": {},
   "source": [
    "Retículo que no es distributivo ni complementado"
   ]
  },
  {
   "cell_type": "code",
   "execution_count": 55,
   "metadata": {
    "collapsed": true
   },
   "outputs": [],
   "source": [
    "r=divisores({1,0,2,18,9,3})"
   ]
  },
  {
   "cell_type": "code",
   "execution_count": 56,
   "metadata": {
    "collapsed": false
   },
   "outputs": [
    {
     "data": {
      "image/svg+xml": [
       "<svg height=\"332pt\" viewBox=\"0.00 0.00 134.00 332.00\" width=\"134pt\" xmlns=\"http://www.w3.org/2000/svg\" xmlns:xlink=\"http://www.w3.org/1999/xlink\">\n",
       "<g class=\"graph\" id=\"graph0\" transform=\"scale(1 1) rotate(0) translate(4 328)\">\n",
       "<title>%3</title>\n",
       "<polygon fill=\"white\" points=\"-4,4 -4,-328 130,-328 130,4 -4,4\" stroke=\"none\"/>\n",
       "<!-- 0 -->\n",
       "<g class=\"node\" id=\"node1\"><title>0</title>\n",
       "<ellipse cx=\"62\" cy=\"-306\" fill=\"none\" rx=\"27\" ry=\"18\" stroke=\"black\"/>\n",
       "<text font-family=\"Times,serif\" font-size=\"14.00\" text-anchor=\"middle\" x=\"62\" y=\"-302.3\">0</text>\n",
       "</g>\n",
       "<!-- 18 -->\n",
       "<g class=\"node\" id=\"node4\"><title>18</title>\n",
       "<ellipse cx=\"62\" cy=\"-234\" fill=\"none\" rx=\"27\" ry=\"18\" stroke=\"black\"/>\n",
       "<text font-family=\"Times,serif\" font-size=\"14.00\" text-anchor=\"middle\" x=\"62\" y=\"-230.3\">18</text>\n",
       "</g>\n",
       "<!-- 0&#45;&#45;18 -->\n",
       "<g class=\"edge\" id=\"edge2\"><title>0--18</title>\n",
       "<path d=\"M62,-287.697C62,-276.846 62,-262.917 62,-252.104\" fill=\"none\" stroke=\"black\"/>\n",
       "</g>\n",
       "<!-- 1 -->\n",
       "<g class=\"node\" id=\"node2\"><title>1</title>\n",
       "<ellipse cx=\"63\" cy=\"-18\" fill=\"none\" rx=\"27\" ry=\"18\" stroke=\"black\"/>\n",
       "<text font-family=\"Times,serif\" font-size=\"14.00\" text-anchor=\"middle\" x=\"63\" y=\"-14.3\">1</text>\n",
       "</g>\n",
       "<!-- 2 -->\n",
       "<g class=\"node\" id=\"node3\"><title>2</title>\n",
       "<ellipse cx=\"27\" cy=\"-90\" fill=\"none\" rx=\"27\" ry=\"18\" stroke=\"black\"/>\n",
       "<text font-family=\"Times,serif\" font-size=\"14.00\" text-anchor=\"middle\" x=\"27\" y=\"-86.3\">2</text>\n",
       "</g>\n",
       "<!-- 2&#45;&#45;1 -->\n",
       "<g class=\"edge\" id=\"edge1\"><title>2--1</title>\n",
       "<path d=\"M35.3496,-72.7646C41.1655,-61.456 48.8897,-46.4367 54.6957,-35.1473\" fill=\"none\" stroke=\"black\"/>\n",
       "</g>\n",
       "<!-- 18&#45;&#45;2 -->\n",
       "<g class=\"edge\" id=\"edge4\"><title>18--2</title>\n",
       "<path d=\"M57.8476,-216.153C51.1115,-188.824 37.8796,-135.14 31.147,-107.825\" fill=\"none\" stroke=\"black\"/>\n",
       "</g>\n",
       "<!-- 9 -->\n",
       "<g class=\"node\" id=\"node6\"><title>9</title>\n",
       "<ellipse cx=\"94\" cy=\"-162\" fill=\"none\" rx=\"27\" ry=\"18\" stroke=\"black\"/>\n",
       "<text font-family=\"Times,serif\" font-size=\"14.00\" text-anchor=\"middle\" x=\"94\" y=\"-158.3\">9</text>\n",
       "</g>\n",
       "<!-- 18&#45;&#45;9 -->\n",
       "<g class=\"edge\" id=\"edge6\"><title>18--9</title>\n",
       "<path d=\"M69.5836,-216.411C74.6846,-205.252 81.3812,-190.604 86.4709,-179.47\" fill=\"none\" stroke=\"black\"/>\n",
       "</g>\n",
       "<!-- 3 -->\n",
       "<g class=\"node\" id=\"node5\"><title>3</title>\n",
       "<ellipse cx=\"99\" cy=\"-90\" fill=\"none\" rx=\"27\" ry=\"18\" stroke=\"black\"/>\n",
       "<text font-family=\"Times,serif\" font-size=\"14.00\" text-anchor=\"middle\" x=\"99\" y=\"-86.3\">3</text>\n",
       "</g>\n",
       "<!-- 3&#45;&#45;1 -->\n",
       "<g class=\"edge\" id=\"edge3\"><title>3--1</title>\n",
       "<path d=\"M90.6504,-72.7646C84.8345,-61.456 77.1103,-46.4367 71.3043,-35.1473\" fill=\"none\" stroke=\"black\"/>\n",
       "</g>\n",
       "<!-- 9&#45;&#45;3 -->\n",
       "<g class=\"edge\" id=\"edge5\"><title>9--3</title>\n",
       "<path d=\"M95.236,-143.697C96.011,-132.846 97.0059,-118.917 97.7783,-108.104\" fill=\"none\" stroke=\"black\"/>\n",
       "</g>\n",
       "</g>\n",
       "</svg>"
      ],
      "text/plain": [
       "<IPython.core.display.SVG object>"
      ]
     },
     "metadata": {},
     "output_type": "display_data"
    },
    {
     "data": {
      "text/plain": [
       "Relación binaria"
      ]
     },
     "execution_count": 56,
     "metadata": {},
     "output_type": "execute_result"
    }
   ],
   "source": [
    "r.hasse()"
   ]
  },
  {
   "cell_type": "code",
   "execution_count": 57,
   "metadata": {
    "collapsed": false
   },
   "outputs": [
    {
     "data": {
      "text/plain": [
       "False"
      ]
     },
     "execution_count": 57,
     "metadata": {},
     "output_type": "execute_result"
    }
   ],
   "source": [
    "r.es_complementado()"
   ]
  },
  {
   "cell_type": "code",
   "execution_count": 58,
   "metadata": {
    "collapsed": false
   },
   "outputs": [
    {
     "data": {
      "text/plain": [
       "False"
      ]
     },
     "execution_count": 58,
     "metadata": {},
     "output_type": "execute_result"
    }
   ],
   "source": [
    "r.es_distributivo()"
   ]
  },
  {
   "cell_type": "code",
   "execution_count": 59,
   "metadata": {
    "collapsed": false
   },
   "outputs": [
    {
     "data": {
      "text/plain": [
       "[2, 18, 3, 9]"
      ]
     },
     "execution_count": 59,
     "metadata": {},
     "output_type": "execute_result"
    }
   ],
   "source": [
    "[s for s in r.universo if r.complemento(s)==None]"
   ]
  },
  {
   "cell_type": "code",
   "execution_count": 60,
   "metadata": {
    "collapsed": false
   },
   "outputs": [
    {
     "data": {
      "text/plain": [
       "True"
      ]
     },
     "execution_count": 60,
     "metadata": {},
     "output_type": "execute_result"
    }
   ],
   "source": [
    "r.es_reticulo()"
   ]
  },
  {
   "cell_type": "markdown",
   "metadata": {},
   "source": [
    "Retículo distributivo, no complementado"
   ]
  },
  {
   "cell_type": "code",
   "execution_count": 61,
   "metadata": {
    "collapsed": false
   },
   "outputs": [],
   "source": [
    "r = divisores({1,2,4})"
   ]
  },
  {
   "cell_type": "code",
   "execution_count": 62,
   "metadata": {
    "collapsed": false
   },
   "outputs": [
    {
     "data": {
      "image/svg+xml": [
       "<svg height=\"188pt\" viewBox=\"0.00 0.00 62.00 188.00\" width=\"62pt\" xmlns=\"http://www.w3.org/2000/svg\" xmlns:xlink=\"http://www.w3.org/1999/xlink\">\n",
       "<g class=\"graph\" id=\"graph0\" transform=\"scale(1 1) rotate(0) translate(4 184)\">\n",
       "<title>%3</title>\n",
       "<polygon fill=\"white\" points=\"-4,4 -4,-184 58,-184 58,4 -4,4\" stroke=\"none\"/>\n",
       "<!-- 1 -->\n",
       "<g class=\"node\" id=\"node1\"><title>1</title>\n",
       "<ellipse cx=\"27\" cy=\"-18\" fill=\"none\" rx=\"27\" ry=\"18\" stroke=\"black\"/>\n",
       "<text font-family=\"Times,serif\" font-size=\"14.00\" text-anchor=\"middle\" x=\"27\" y=\"-14.3\">1</text>\n",
       "</g>\n",
       "<!-- 2 -->\n",
       "<g class=\"node\" id=\"node2\"><title>2</title>\n",
       "<ellipse cx=\"27\" cy=\"-90\" fill=\"none\" rx=\"27\" ry=\"18\" stroke=\"black\"/>\n",
       "<text font-family=\"Times,serif\" font-size=\"14.00\" text-anchor=\"middle\" x=\"27\" y=\"-86.3\">2</text>\n",
       "</g>\n",
       "<!-- 2&#45;&#45;1 -->\n",
       "<g class=\"edge\" id=\"edge1\"><title>2--1</title>\n",
       "<path d=\"M27,-71.6966C27,-60.8463 27,-46.9167 27,-36.1043\" fill=\"none\" stroke=\"black\"/>\n",
       "</g>\n",
       "<!-- 4 -->\n",
       "<g class=\"node\" id=\"node3\"><title>4</title>\n",
       "<ellipse cx=\"27\" cy=\"-162\" fill=\"none\" rx=\"27\" ry=\"18\" stroke=\"black\"/>\n",
       "<text font-family=\"Times,serif\" font-size=\"14.00\" text-anchor=\"middle\" x=\"27\" y=\"-158.3\">4</text>\n",
       "</g>\n",
       "<!-- 4&#45;&#45;2 -->\n",
       "<g class=\"edge\" id=\"edge2\"><title>4--2</title>\n",
       "<path d=\"M27,-143.697C27,-132.846 27,-118.917 27,-108.104\" fill=\"none\" stroke=\"black\"/>\n",
       "</g>\n",
       "</g>\n",
       "</svg>"
      ],
      "text/plain": [
       "<IPython.core.display.SVG object>"
      ]
     },
     "metadata": {},
     "output_type": "display_data"
    },
    {
     "data": {
      "text/plain": [
       "Relación binaria"
      ]
     },
     "execution_count": 62,
     "metadata": {},
     "output_type": "execute_result"
    }
   ],
   "source": [
    "r.hasse()"
   ]
  },
  {
   "cell_type": "code",
   "execution_count": 63,
   "metadata": {
    "collapsed": false
   },
   "outputs": [
    {
     "data": {
      "text/plain": [
       "True"
      ]
     },
     "execution_count": 63,
     "metadata": {},
     "output_type": "execute_result"
    }
   ],
   "source": [
    "r.es_distributivo()"
   ]
  },
  {
   "cell_type": "code",
   "execution_count": 64,
   "metadata": {
    "collapsed": false
   },
   "outputs": [
    {
     "data": {
      "text/plain": [
       "False"
      ]
     },
     "execution_count": 64,
     "metadata": {},
     "output_type": "execute_result"
    }
   ],
   "source": [
    "r.es_complementado()"
   ]
  },
  {
   "cell_type": "code",
   "execution_count": 65,
   "metadata": {
    "collapsed": true
   },
   "outputs": [],
   "source": [
    "r=divisores({0,1,2,3,4,6})"
   ]
  },
  {
   "cell_type": "code",
   "execution_count": 66,
   "metadata": {
    "collapsed": false
   },
   "outputs": [
    {
     "data": {
      "image/svg+xml": [
       "<svg height=\"260pt\" viewBox=\"0.00 0.00 134.00 260.00\" width=\"134pt\" xmlns=\"http://www.w3.org/2000/svg\" xmlns:xlink=\"http://www.w3.org/1999/xlink\">\n",
       "<g class=\"graph\" id=\"graph0\" transform=\"scale(1 1) rotate(0) translate(4 256)\">\n",
       "<title>%3</title>\n",
       "<polygon fill=\"white\" points=\"-4,4 -4,-256 130,-256 130,4 -4,4\" stroke=\"none\"/>\n",
       "<!-- 0 -->\n",
       "<g class=\"node\" id=\"node1\"><title>0</title>\n",
       "<ellipse cx=\"63\" cy=\"-234\" fill=\"none\" rx=\"27\" ry=\"18\" stroke=\"black\"/>\n",
       "<text font-family=\"Times,serif\" font-size=\"14.00\" text-anchor=\"middle\" x=\"63\" y=\"-230.3\">0</text>\n",
       "</g>\n",
       "<!-- 4 -->\n",
       "<g class=\"node\" id=\"node5\"><title>4</title>\n",
       "<ellipse cx=\"27\" cy=\"-162\" fill=\"none\" rx=\"27\" ry=\"18\" stroke=\"black\"/>\n",
       "<text font-family=\"Times,serif\" font-size=\"14.00\" text-anchor=\"middle\" x=\"27\" y=\"-158.3\">4</text>\n",
       "</g>\n",
       "<!-- 0&#45;&#45;4 -->\n",
       "<g class=\"edge\" id=\"edge7\"><title>0--4</title>\n",
       "<path d=\"M54.6504,-216.765C48.8345,-205.456 41.1103,-190.437 35.3043,-179.147\" fill=\"none\" stroke=\"black\"/>\n",
       "</g>\n",
       "<!-- 6 -->\n",
       "<g class=\"node\" id=\"node6\"><title>6</title>\n",
       "<ellipse cx=\"99\" cy=\"-162\" fill=\"none\" rx=\"27\" ry=\"18\" stroke=\"black\"/>\n",
       "<text font-family=\"Times,serif\" font-size=\"14.00\" text-anchor=\"middle\" x=\"99\" y=\"-158.3\">6</text>\n",
       "</g>\n",
       "<!-- 0&#45;&#45;6 -->\n",
       "<g class=\"edge\" id=\"edge4\"><title>0--6</title>\n",
       "<path d=\"M71.3496,-216.765C77.1655,-205.456 84.8897,-190.437 90.6957,-179.147\" fill=\"none\" stroke=\"black\"/>\n",
       "</g>\n",
       "<!-- 1 -->\n",
       "<g class=\"node\" id=\"node2\"><title>1</title>\n",
       "<ellipse cx=\"63\" cy=\"-18\" fill=\"none\" rx=\"27\" ry=\"18\" stroke=\"black\"/>\n",
       "<text font-family=\"Times,serif\" font-size=\"14.00\" text-anchor=\"middle\" x=\"63\" y=\"-14.3\">1</text>\n",
       "</g>\n",
       "<!-- 2 -->\n",
       "<g class=\"node\" id=\"node3\"><title>2</title>\n",
       "<ellipse cx=\"27\" cy=\"-90\" fill=\"none\" rx=\"27\" ry=\"18\" stroke=\"black\"/>\n",
       "<text font-family=\"Times,serif\" font-size=\"14.00\" text-anchor=\"middle\" x=\"27\" y=\"-86.3\">2</text>\n",
       "</g>\n",
       "<!-- 2&#45;&#45;1 -->\n",
       "<g class=\"edge\" id=\"edge1\"><title>2--1</title>\n",
       "<path d=\"M35.3496,-72.7646C41.1655,-61.456 48.8897,-46.4367 54.6957,-35.1473\" fill=\"none\" stroke=\"black\"/>\n",
       "</g>\n",
       "<!-- 3 -->\n",
       "<g class=\"node\" id=\"node4\"><title>3</title>\n",
       "<ellipse cx=\"99\" cy=\"-90\" fill=\"none\" rx=\"27\" ry=\"18\" stroke=\"black\"/>\n",
       "<text font-family=\"Times,serif\" font-size=\"14.00\" text-anchor=\"middle\" x=\"99\" y=\"-86.3\">3</text>\n",
       "</g>\n",
       "<!-- 3&#45;&#45;1 -->\n",
       "<g class=\"edge\" id=\"edge3\"><title>3--1</title>\n",
       "<path d=\"M90.6504,-72.7646C84.8345,-61.456 77.1103,-46.4367 71.3043,-35.1473\" fill=\"none\" stroke=\"black\"/>\n",
       "</g>\n",
       "<!-- 4&#45;&#45;2 -->\n",
       "<g class=\"edge\" id=\"edge6\"><title>4--2</title>\n",
       "<path d=\"M27,-143.697C27,-132.846 27,-118.917 27,-108.104\" fill=\"none\" stroke=\"black\"/>\n",
       "</g>\n",
       "<!-- 6&#45;&#45;2 -->\n",
       "<g class=\"edge\" id=\"edge2\"><title>6--2</title>\n",
       "<path d=\"M84.4297,-146.834C72.0202,-134.77 54.2694,-117.512 41.7957,-105.385\" fill=\"none\" stroke=\"black\"/>\n",
       "</g>\n",
       "<!-- 6&#45;&#45;3 -->\n",
       "<g class=\"edge\" id=\"edge5\"><title>6--3</title>\n",
       "<path d=\"M99,-143.697C99,-132.846 99,-118.917 99,-108.104\" fill=\"none\" stroke=\"black\"/>\n",
       "</g>\n",
       "</g>\n",
       "</svg>"
      ],
      "text/plain": [
       "<IPython.core.display.SVG object>"
      ]
     },
     "metadata": {},
     "output_type": "display_data"
    },
    {
     "data": {
      "text/plain": [
       "Relación binaria"
      ]
     },
     "execution_count": 66,
     "metadata": {},
     "output_type": "execute_result"
    }
   ],
   "source": [
    "r.hasse()"
   ]
  },
  {
   "cell_type": "code",
   "execution_count": 67,
   "metadata": {
    "collapsed": false
   },
   "outputs": [
    {
     "data": {
      "text/plain": [
       "True"
      ]
     },
     "execution_count": 67,
     "metadata": {},
     "output_type": "execute_result"
    }
   ],
   "source": [
    "r.es_distributivo()"
   ]
  },
  {
   "cell_type": "code",
   "execution_count": 68,
   "metadata": {
    "collapsed": false
   },
   "outputs": [
    {
     "data": {
      "text/plain": [
       "False"
      ]
     },
     "execution_count": 68,
     "metadata": {},
     "output_type": "execute_result"
    }
   ],
   "source": [
    "r.es_complementado()"
   ]
  }
 ],
 "metadata": {
  "kernelspec": {
   "display_name": "Python 3",
   "language": "python",
   "name": "python3"
  },
  "language_info": {
   "codemirror_mode": {
    "name": "ipython",
    "version": 3
   },
   "file_extension": ".py",
   "mimetype": "text/x-python",
   "name": "python",
   "nbconvert_exporter": "python",
   "pygments_lexer": "ipython3",
   "version": "3.5.1"
  }
 },
 "nbformat": 4,
 "nbformat_minor": 0
}
